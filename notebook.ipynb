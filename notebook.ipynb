{
 "cells": [
  {
   "cell_type": "markdown",
   "metadata": {},
   "source": [
    "### Project examining All-Time Olympic Medal counts\n",
    "#### by Erika Harrell"
   ]
  },
  {
   "cell_type": "code",
   "execution_count": 1,
   "metadata": {},
   "outputs": [],
   "source": [
    "# importing Python libraries\n",
    "import requests \n",
    "import pandas as pd\n",
    "from bs4 import BeautifulSoup\n",
    "from io import StringIO\n",
    "import numpy as np\n",
    "import matplotlib.pyplot as plt\n",
    "import plotly.express as px\n",
    "import regex as re\n",
    "from geopy.geocoders import Nominatim\n",
    "#facilitate showing graphs when exporting notebook to HTML\n",
    "import plotly.io as pio\n",
    "pio.renderers.default=\"notebook\"\n",
    "#show all output in each cell\n",
    "from IPython.core.interactiveshell import InteractiveShell\n",
    "InteractiveShell.ast_node_interactivity = \"all\""
   ]
  },
  {
   "cell_type": "code",
   "execution_count": 2,
   "metadata": {},
   "outputs": [
    {
     "name": "stdout",
     "output_type": "stream",
     "text": [
      "[                                            Team Summer Olympic Games  \\\n",
      "                                 Team (IOC code)                  No.   \n",
      "0                              Afghanistan (AFG)                   16   \n",
      "1                                  Albania (ALB)                   10   \n",
      "2                                  Algeria (ALG)                   15   \n",
      "3                                Argentina (ARG)                   26   \n",
      "4                                  Armenia (ARM)                    8   \n",
      "..                                           ...                  ...   \n",
      "158       Individual Neutral Athletes (AIN)[AIN]                    1   \n",
      "159      Independent Olympic Athletes (IOA)[IOA]                    3   \n",
      "160  Independent Olympic Participants (IOP)[IOP]                    1   \n",
      "161                        Mixed team (ZZX)[ZZX]                    3   \n",
      "162                                       Totals                   30   \n",
      "\n",
      "                                                              \\\n",
      "    Unnamed: 2_level_1 Unnamed: 3_level_1 Unnamed: 4_level_1   \n",
      "0                    0                  0                  2   \n",
      "1                    0                  0                  2   \n",
      "2                    7                  4                  9   \n",
      "3                   22                 27                 31   \n",
      "4                    2                 11                  9   \n",
      "..                 ...                ...                ...   \n",
      "158                  1                  3                  1   \n",
      "159                  1                  0                  1   \n",
      "160                  0                  1                  2   \n",
      "161                 11                  6                  8   \n",
      "162               5789               5759               6277   \n",
      "\n",
      "                       Winter Olympic Games                     \\\n",
      "    Unnamed: 5_level_1                  No. Unnamed: 7_level_1   \n",
      "0                    2                    0                  0   \n",
      "1                    2                    5                  0   \n",
      "2                   20                    3                  0   \n",
      "3                   80                   20                  0   \n",
      "4                   22                    8                  0   \n",
      "..                 ...                  ...                ...   \n",
      "158                  1                    0                  0   \n",
      "159                  2                    0                  0   \n",
      "160                  3                    0                  0   \n",
      "161                 25                    0                  0   \n",
      "162              17825                   24               1171   \n",
      "\n",
      "                                                              Combined total  \\\n",
      "    Unnamed: 8_level_1 Unnamed: 9_level_1 Unnamed: 10_level_1            No.   \n",
      "0                    0                  0                   0             16   \n",
      "1                    0                  0                   0             15   \n",
      "2                    0                  0                   0             18   \n",
      "3                    0                  0                   0             46   \n",
      "4                    0                  0                   0             16   \n",
      "..                 ...                ...                 ...            ...   \n",
      "158                  0                  0                   0              1   \n",
      "159                  0                  0                   0              3   \n",
      "160                  0                  0                   0              1   \n",
      "161                  0                  0                   0              3   \n",
      "162               1169               1160                3500             54   \n",
      "\n",
      "                                                                 \\\n",
      "    Unnamed: 12_level_1 Unnamed: 13_level_1 Unnamed: 14_level_1   \n",
      "0                     0                   0                   2   \n",
      "1                     0                   0                   2   \n",
      "2                     7                   4                   9   \n",
      "3                    22                  27                  31   \n",
      "4                     2                  11                   9   \n",
      "..                  ...                 ...                 ...   \n",
      "158                   1                   3                   1   \n",
      "159                   1                   0                   1   \n",
      "160                   0                   1                   2   \n",
      "161                  11                   6                   8   \n",
      "162                6960                6928                7437   \n",
      "\n",
      "                         \n",
      "    Unnamed: 15_level_1  \n",
      "0                     2  \n",
      "1                     2  \n",
      "2                    20  \n",
      "3                    80  \n",
      "4                    22  \n",
      "..                  ...  \n",
      "158                   5  \n",
      "159                   2  \n",
      "160                   3  \n",
      "161                  25  \n",
      "162               21325  \n",
      "\n",
      "[163 rows x 16 columns]]\n"
     ]
    }
   ],
   "source": [
    "#scraping Wikipedia page\n",
    "url = \"https://en.wikipedia.org/wiki/All-time_Olympic_Games_medal_table\"\n",
    "#making GET request to get information (raw HTML info) from server using URL\n",
    "response = requests.get(url)\n",
    "#using BeautifulSoup's HTML parser over the raw HTML content to create a BeautifulSoup object\n",
    "soup = BeautifulSoup(response.content, \"html.parser\")\n",
    "#finding all text in BeautifulSoup object with table HTML tag\n",
    "tables = soup.find_all(\"table\")\n",
    "#getting the second element of tables wihch is the first table on the Wikipedia page and\n",
    "#use pandas read_html command to read it in\n",
    "#have to wrap string version of table in StringIO command because read_html does not take string values directly\n",
    "df1 = pd.read_html(StringIO(str(tables[1])))\n",
    "# printing table\n",
    "print(df1)"
   ]
  },
  {
   "cell_type": "code",
   "execution_count": 3,
   "metadata": {},
   "outputs": [
    {
     "data": {
      "text/plain": [
       "list"
      ]
     },
     "execution_count": 3,
     "metadata": {},
     "output_type": "execute_result"
    },
    {
     "data": {
      "text/plain": [
       "1"
      ]
     },
     "execution_count": 3,
     "metadata": {},
     "output_type": "execute_result"
    },
    {
     "data": {
      "text/plain": [
       "pandas.core.frame.DataFrame"
      ]
     },
     "execution_count": 3,
     "metadata": {},
     "output_type": "execute_result"
    }
   ],
   "source": [
    "#get information about df1\n",
    "#get type of df1\n",
    "type(df1)\n",
    "#get length of df1 list\n",
    "len(df1)\n",
    "#get type of first element of df1\n",
    "type(df1[0])"
   ]
  },
  {
   "cell_type": "code",
   "execution_count": 4,
   "metadata": {},
   "outputs": [
    {
     "data": {
      "text/plain": [
       "pandas.core.frame.DataFrame"
      ]
     },
     "execution_count": 4,
     "metadata": {},
     "output_type": "execute_result"
    }
   ],
   "source": [
    "#get dataframe out of list\n",
    "df = df1[0]\n",
    "type(df)"
   ]
  },
  {
   "cell_type": "code",
   "execution_count": 5,
   "metadata": {},
   "outputs": [
    {
     "name": "stdout",
     "output_type": "stream",
     "text": [
      "<class 'pandas.core.frame.DataFrame'>\n",
      "RangeIndex: 163 entries, 0 to 162\n",
      "Data columns (total 16 columns):\n",
      " #   Column                                       Non-Null Count  Dtype \n",
      "---  ------                                       --------------  ----- \n",
      " 0   (Team, Team (IOC code))                      163 non-null    object\n",
      " 1   (Summer Olympic Games, No.)                  163 non-null    int64 \n",
      " 2   (Summer Olympic Games, Unnamed: 2_level_1)   163 non-null    int64 \n",
      " 3   (Summer Olympic Games, Unnamed: 3_level_1)   163 non-null    int64 \n",
      " 4   (Summer Olympic Games, Unnamed: 4_level_1)   163 non-null    int64 \n",
      " 5   (Summer Olympic Games, Unnamed: 5_level_1)   163 non-null    int64 \n",
      " 6   (Winter Olympic Games, No.)                  163 non-null    int64 \n",
      " 7   (Winter Olympic Games, Unnamed: 7_level_1)   163 non-null    int64 \n",
      " 8   (Winter Olympic Games, Unnamed: 8_level_1)   163 non-null    int64 \n",
      " 9   (Winter Olympic Games, Unnamed: 9_level_1)   163 non-null    int64 \n",
      " 10  (Winter Olympic Games, Unnamed: 10_level_1)  163 non-null    int64 \n",
      " 11  (Combined total, No.)                        163 non-null    int64 \n",
      " 12  (Combined total, Unnamed: 12_level_1)        163 non-null    int64 \n",
      " 13  (Combined total, Unnamed: 13_level_1)        163 non-null    int64 \n",
      " 14  (Combined total, Unnamed: 14_level_1)        163 non-null    int64 \n",
      " 15  (Combined total, Unnamed: 15_level_1)        163 non-null    int64 \n",
      "dtypes: int64(15), object(1)\n",
      "memory usage: 20.5+ KB\n"
     ]
    }
   ],
   "source": [
    "# get information about dataframe\n",
    "df.info()"
   ]
  },
  {
   "cell_type": "code",
   "execution_count": 6,
   "metadata": {},
   "outputs": [
    {
     "name": "stdout",
     "output_type": "stream",
     "text": [
      "                                            Team Summer Olympic Games  \\\n",
      "                                 Team (IOC code)                  No.   \n",
      "0                              Afghanistan (AFG)                   16   \n",
      "1                                  Albania (ALB)                   10   \n",
      "2                                  Algeria (ALG)                   15   \n",
      "3                                Argentina (ARG)                   26   \n",
      "4                                  Armenia (ARM)                    8   \n",
      "..                                           ...                  ...   \n",
      "157                          Zimbabwe (ZIM)[ZIM]                   15   \n",
      "158       Individual Neutral Athletes (AIN)[AIN]                    1   \n",
      "159      Independent Olympic Athletes (IOA)[IOA]                    3   \n",
      "160  Independent Olympic Participants (IOP)[IOP]                    1   \n",
      "161                        Mixed team (ZZX)[ZZX]                    3   \n",
      "\n",
      "                                                              \\\n",
      "    Unnamed: 2_level_1 Unnamed: 3_level_1 Unnamed: 4_level_1   \n",
      "0                    0                  0                  2   \n",
      "1                    0                  0                  2   \n",
      "2                    7                  4                  9   \n",
      "3                   22                 27                 31   \n",
      "4                    2                 11                  9   \n",
      "..                 ...                ...                ...   \n",
      "157                  3                  4                  1   \n",
      "158                  1                  3                  1   \n",
      "159                  1                  0                  1   \n",
      "160                  0                  1                  2   \n",
      "161                 11                  6                  8   \n",
      "\n",
      "                       Winter Olympic Games                     \\\n",
      "    Unnamed: 5_level_1                  No. Unnamed: 7_level_1   \n",
      "0                    2                    0                  0   \n",
      "1                    2                    5                  0   \n",
      "2                   20                    3                  0   \n",
      "3                   80                   20                  0   \n",
      "4                   22                    8                  0   \n",
      "..                 ...                  ...                ...   \n",
      "157                  8                    1                  0   \n",
      "158                  1                    0                  0   \n",
      "159                  2                    0                  0   \n",
      "160                  3                    0                  0   \n",
      "161                 25                    0                  0   \n",
      "\n",
      "                                                              Combined total  \\\n",
      "    Unnamed: 8_level_1 Unnamed: 9_level_1 Unnamed: 10_level_1            No.   \n",
      "0                    0                  0                   0             16   \n",
      "1                    0                  0                   0             15   \n",
      "2                    0                  0                   0             18   \n",
      "3                    0                  0                   0             46   \n",
      "4                    0                  0                   0             16   \n",
      "..                 ...                ...                 ...            ...   \n",
      "157                  0                  0                   0             16   \n",
      "158                  0                  0                   0              1   \n",
      "159                  0                  0                   0              3   \n",
      "160                  0                  0                   0              1   \n",
      "161                  0                  0                   0              3   \n",
      "\n",
      "                                                                 \\\n",
      "    Unnamed: 12_level_1 Unnamed: 13_level_1 Unnamed: 14_level_1   \n",
      "0                     0                   0                   2   \n",
      "1                     0                   0                   2   \n",
      "2                     7                   4                   9   \n",
      "3                    22                  27                  31   \n",
      "4                     2                  11                   9   \n",
      "..                  ...                 ...                 ...   \n",
      "157                   3                   4                   1   \n",
      "158                   1                   3                   1   \n",
      "159                   1                   0                   1   \n",
      "160                   0                   1                   2   \n",
      "161                  11                   6                   8   \n",
      "\n",
      "                         \n",
      "    Unnamed: 15_level_1  \n",
      "0                     2  \n",
      "1                     2  \n",
      "2                    20  \n",
      "3                    80  \n",
      "4                    22  \n",
      "..                  ...  \n",
      "157                   8  \n",
      "158                   5  \n",
      "159                   2  \n",
      "160                   3  \n",
      "161                  25  \n",
      "\n",
      "[162 rows x 16 columns]\n"
     ]
    }
   ],
   "source": [
    "# dropping the last row of the dataframe\n",
    "df = df.iloc[:-1]\n",
    "print(df)"
   ]
  },
  {
   "cell_type": "code",
   "execution_count": 7,
   "metadata": {},
   "outputs": [
    {
     "data": {
      "text/plain": [
       "MultiIndex([(                'Team',     'Team (IOC code)'),\n",
       "            ('Summer Olympic Games',                 'No.'),\n",
       "            ('Summer Olympic Games',  'Unnamed: 2_level_1'),\n",
       "            ('Summer Olympic Games',  'Unnamed: 3_level_1'),\n",
       "            ('Summer Olympic Games',  'Unnamed: 4_level_1'),\n",
       "            ('Summer Olympic Games',  'Unnamed: 5_level_1'),\n",
       "            ('Winter Olympic Games',                 'No.'),\n",
       "            ('Winter Olympic Games',  'Unnamed: 7_level_1'),\n",
       "            ('Winter Olympic Games',  'Unnamed: 8_level_1'),\n",
       "            ('Winter Olympic Games',  'Unnamed: 9_level_1'),\n",
       "            ('Winter Olympic Games', 'Unnamed: 10_level_1'),\n",
       "            (      'Combined total',                 'No.'),\n",
       "            (      'Combined total', 'Unnamed: 12_level_1'),\n",
       "            (      'Combined total', 'Unnamed: 13_level_1'),\n",
       "            (      'Combined total', 'Unnamed: 14_level_1'),\n",
       "            (      'Combined total', 'Unnamed: 15_level_1')],\n",
       "           )"
      ]
     },
     "execution_count": 7,
     "metadata": {},
     "output_type": "execute_result"
    },
    {
     "data": {
      "text/plain": [
       "16"
      ]
     },
     "execution_count": 7,
     "metadata": {},
     "output_type": "execute_result"
    }
   ],
   "source": [
    "# get column names of dataframe\n",
    "df.columns\n",
    "# get number of columns\n",
    "len(df.columns)"
   ]
  },
  {
   "cell_type": "code",
   "execution_count": 8,
   "metadata": {},
   "outputs": [
    {
     "data": {
      "text/html": [
       "<div>\n",
       "<style scoped>\n",
       "    .dataframe tbody tr th:only-of-type {\n",
       "        vertical-align: middle;\n",
       "    }\n",
       "\n",
       "    .dataframe tbody tr th {\n",
       "        vertical-align: top;\n",
       "    }\n",
       "\n",
       "    .dataframe thead tr th {\n",
       "        text-align: left;\n",
       "    }\n",
       "</style>\n",
       "<table border=\"1\" class=\"dataframe\">\n",
       "  <thead>\n",
       "    <tr>\n",
       "      <th></th>\n",
       "      <th>Team</th>\n",
       "      <th colspan=\"5\" halign=\"left\">Summer Olympic Games</th>\n",
       "      <th colspan=\"5\" halign=\"left\">Winter Olympic Games</th>\n",
       "      <th colspan=\"5\" halign=\"left\">Combined total</th>\n",
       "    </tr>\n",
       "    <tr>\n",
       "      <th></th>\n",
       "      <th>Team (IOC code)</th>\n",
       "      <th>No.</th>\n",
       "      <th>Unnamed: 2_level_1</th>\n",
       "      <th>Unnamed: 3_level_1</th>\n",
       "      <th>Unnamed: 4_level_1</th>\n",
       "      <th>Unnamed: 5_level_1</th>\n",
       "      <th>No.</th>\n",
       "      <th>Unnamed: 7_level_1</th>\n",
       "      <th>Unnamed: 8_level_1</th>\n",
       "      <th>Unnamed: 9_level_1</th>\n",
       "      <th>Unnamed: 10_level_1</th>\n",
       "      <th>No.</th>\n",
       "      <th>Unnamed: 12_level_1</th>\n",
       "      <th>Unnamed: 13_level_1</th>\n",
       "      <th>Unnamed: 14_level_1</th>\n",
       "      <th>Unnamed: 15_level_1</th>\n",
       "    </tr>\n",
       "  </thead>\n",
       "  <tbody>\n",
       "    <tr>\n",
       "      <th>0</th>\n",
       "      <td>Afghanistan (AFG)</td>\n",
       "      <td>16</td>\n",
       "      <td>0</td>\n",
       "      <td>0</td>\n",
       "      <td>2</td>\n",
       "      <td>2</td>\n",
       "      <td>0</td>\n",
       "      <td>0</td>\n",
       "      <td>0</td>\n",
       "      <td>0</td>\n",
       "      <td>0</td>\n",
       "      <td>16</td>\n",
       "      <td>0</td>\n",
       "      <td>0</td>\n",
       "      <td>2</td>\n",
       "      <td>2</td>\n",
       "    </tr>\n",
       "  </tbody>\n",
       "</table>\n",
       "</div>"
      ],
      "text/plain": [
       "                Team Summer Olympic Games                     \\\n",
       "     Team (IOC code)                  No. Unnamed: 2_level_1   \n",
       "0  Afghanistan (AFG)                   16                  0   \n",
       "\n",
       "                                                            \\\n",
       "  Unnamed: 3_level_1 Unnamed: 4_level_1 Unnamed: 5_level_1   \n",
       "0                  0                  2                  2   \n",
       "\n",
       "  Winter Olympic Games                                        \\\n",
       "                   No. Unnamed: 7_level_1 Unnamed: 8_level_1   \n",
       "0                    0                  0                  0   \n",
       "\n",
       "                                         Combined total                      \\\n",
       "  Unnamed: 9_level_1 Unnamed: 10_level_1            No. Unnamed: 12_level_1   \n",
       "0                  0                   0             16                   0   \n",
       "\n",
       "                                                               \n",
       "  Unnamed: 13_level_1 Unnamed: 14_level_1 Unnamed: 15_level_1  \n",
       "0                   0                   2                   2  "
      ]
     },
     "execution_count": 8,
     "metadata": {},
     "output_type": "execute_result"
    },
    {
     "name": "stdout",
     "output_type": "stream",
     "text": [
      "<class 'pandas.core.frame.DataFrame'>\n",
      "<class 'pandas.core.frame.DataFrame'>\n",
      "<class 'pandas.core.frame.DataFrame'>\n",
      "<class 'pandas.core.frame.DataFrame'>\n"
     ]
    }
   ],
   "source": [
    "#examining columns\n",
    "#first row of dataframe\n",
    "df.head(1)\n",
    "#getting type of upper level columns\n",
    "print(type(df['Team']))\n",
    "print(type(df['Summer Olympic Games']))\n",
    "print(type(df['Winter Olympic Games']))\n",
    "print(type(df['Combined total']))\n"
   ]
  },
  {
   "cell_type": "code",
   "execution_count": 9,
   "metadata": {},
   "outputs": [
    {
     "data": {
      "text/plain": [
       "pandas.core.frame.DataFrame"
      ]
     },
     "execution_count": 9,
     "metadata": {},
     "output_type": "execute_result"
    },
    {
     "data": {
      "text/plain": [
       "'Team (IOC code)'"
      ]
     },
     "execution_count": 9,
     "metadata": {},
     "output_type": "execute_result"
    },
    {
     "data": {
      "text/plain": [
       "(162, 1)"
      ]
     },
     "execution_count": 9,
     "metadata": {},
     "output_type": "execute_result"
    },
    {
     "data": {
      "text/html": [
       "<div>\n",
       "<style scoped>\n",
       "    .dataframe tbody tr th:only-of-type {\n",
       "        vertical-align: middle;\n",
       "    }\n",
       "\n",
       "    .dataframe tbody tr th {\n",
       "        vertical-align: top;\n",
       "    }\n",
       "\n",
       "    .dataframe thead th {\n",
       "        text-align: right;\n",
       "    }\n",
       "</style>\n",
       "<table border=\"1\" class=\"dataframe\">\n",
       "  <thead>\n",
       "    <tr style=\"text-align: right;\">\n",
       "      <th></th>\n",
       "      <th>Team (IOC code)</th>\n",
       "    </tr>\n",
       "  </thead>\n",
       "  <tbody>\n",
       "    <tr>\n",
       "      <th>0</th>\n",
       "      <td>Afghanistan (AFG)</td>\n",
       "    </tr>\n",
       "  </tbody>\n",
       "</table>\n",
       "</div>"
      ],
      "text/plain": [
       "     Team (IOC code)\n",
       "0  Afghanistan (AFG)"
      ]
     },
     "execution_count": 9,
     "metadata": {},
     "output_type": "execute_result"
    },
    {
     "data": {
      "text/html": [
       "<div>\n",
       "<style scoped>\n",
       "    .dataframe tbody tr th:only-of-type {\n",
       "        vertical-align: middle;\n",
       "    }\n",
       "\n",
       "    .dataframe tbody tr th {\n",
       "        vertical-align: top;\n",
       "    }\n",
       "\n",
       "    .dataframe thead th {\n",
       "        text-align: right;\n",
       "    }\n",
       "</style>\n",
       "<table border=\"1\" class=\"dataframe\">\n",
       "  <thead>\n",
       "    <tr style=\"text-align: right;\">\n",
       "      <th></th>\n",
       "      <th>Team (IOC code)</th>\n",
       "      <th>0</th>\n",
       "      <th>1</th>\n",
       "    </tr>\n",
       "  </thead>\n",
       "  <tbody>\n",
       "    <tr>\n",
       "      <th>0</th>\n",
       "      <td>Afghanistan (AFG)</td>\n",
       "      <td>Afghanistan</td>\n",
       "      <td>AFG)</td>\n",
       "    </tr>\n",
       "    <tr>\n",
       "      <th>1</th>\n",
       "      <td>Albania (ALB)</td>\n",
       "      <td>Albania</td>\n",
       "      <td>ALB)</td>\n",
       "    </tr>\n",
       "    <tr>\n",
       "      <th>2</th>\n",
       "      <td>Algeria (ALG)</td>\n",
       "      <td>Algeria</td>\n",
       "      <td>ALG)</td>\n",
       "    </tr>\n",
       "    <tr>\n",
       "      <th>3</th>\n",
       "      <td>Argentina (ARG)</td>\n",
       "      <td>Argentina</td>\n",
       "      <td>ARG)</td>\n",
       "    </tr>\n",
       "    <tr>\n",
       "      <th>4</th>\n",
       "      <td>Armenia (ARM)</td>\n",
       "      <td>Armenia</td>\n",
       "      <td>ARM)</td>\n",
       "    </tr>\n",
       "  </tbody>\n",
       "</table>\n",
       "</div>"
      ],
      "text/plain": [
       "     Team (IOC code)             0     1\n",
       "0  Afghanistan (AFG)  Afghanistan   AFG)\n",
       "1      Albania (ALB)      Albania   ALB)\n",
       "2      Algeria (ALG)      Algeria   ALG)\n",
       "3    Argentina (ARG)    Argentina   ARG)\n",
       "4      Armenia (ARM)      Armenia   ARM)"
      ]
     },
     "execution_count": 9,
     "metadata": {},
     "output_type": "execute_result"
    }
   ],
   "source": [
    "#creating new dataframe from nested dataframes in df\n",
    "#working with Teams data frame\n",
    "df1 = df['Team']\n",
    "#get type of df1\n",
    "type(df1)\n",
    "#get name of first column of df1\n",
    "df1.columns[0]\n",
    "# get number of rows and columns\n",
    "df1.shape\n",
    "#get first row of df1\n",
    "df1.head(1)\n",
    "#creating variable with Team name only by splitting Team (IOC code) variable\n",
    "v1 = df1['Team (IOC code)'].str.split(\"(\", expand=True)[0].to_frame()\n",
    "#creating separate IOC code variable only by splitting Team (IOC code) variable\n",
    "v2 = df1['Team (IOC code)'].str.split(\"(\", expand=True)[1].to_frame()\n",
    "#adding Team and IOC code variables to df1\n",
    "df1 = pd.concat([df1,v1, v2], axis=1)\n",
    "#look at first 5 rows of df1\n",
    "df1.head()\n"
   ]
  },
  {
   "cell_type": "code",
   "execution_count": 10,
   "metadata": {},
   "outputs": [
    {
     "data": {
      "text/plain": [
       "Index(['Team (IOC code)', 0, 1], dtype='object')"
      ]
     },
     "execution_count": 10,
     "metadata": {},
     "output_type": "execute_result"
    },
    {
     "data": {
      "text/html": [
       "<div>\n",
       "<style scoped>\n",
       "    .dataframe tbody tr th:only-of-type {\n",
       "        vertical-align: middle;\n",
       "    }\n",
       "\n",
       "    .dataframe tbody tr th {\n",
       "        vertical-align: top;\n",
       "    }\n",
       "\n",
       "    .dataframe thead th {\n",
       "        text-align: right;\n",
       "    }\n",
       "</style>\n",
       "<table border=\"1\" class=\"dataframe\">\n",
       "  <thead>\n",
       "    <tr style=\"text-align: right;\">\n",
       "      <th></th>\n",
       "      <th>Team (IOC code)</th>\n",
       "      <th>Team</th>\n",
       "      <th>IOCcode</th>\n",
       "    </tr>\n",
       "  </thead>\n",
       "  <tbody>\n",
       "    <tr>\n",
       "      <th>0</th>\n",
       "      <td>Afghanistan (AFG)</td>\n",
       "      <td>Afghanistan</td>\n",
       "      <td>AFG)</td>\n",
       "    </tr>\n",
       "    <tr>\n",
       "      <th>1</th>\n",
       "      <td>Albania (ALB)</td>\n",
       "      <td>Albania</td>\n",
       "      <td>ALB)</td>\n",
       "    </tr>\n",
       "    <tr>\n",
       "      <th>2</th>\n",
       "      <td>Algeria (ALG)</td>\n",
       "      <td>Algeria</td>\n",
       "      <td>ALG)</td>\n",
       "    </tr>\n",
       "    <tr>\n",
       "      <th>3</th>\n",
       "      <td>Argentina (ARG)</td>\n",
       "      <td>Argentina</td>\n",
       "      <td>ARG)</td>\n",
       "    </tr>\n",
       "    <tr>\n",
       "      <th>4</th>\n",
       "      <td>Armenia (ARM)</td>\n",
       "      <td>Armenia</td>\n",
       "      <td>ARM)</td>\n",
       "    </tr>\n",
       "  </tbody>\n",
       "</table>\n",
       "</div>"
      ],
      "text/plain": [
       "     Team (IOC code)          Team IOCcode\n",
       "0  Afghanistan (AFG)  Afghanistan     AFG)\n",
       "1      Albania (ALB)      Albania     ALB)\n",
       "2      Algeria (ALG)      Algeria     ALG)\n",
       "3    Argentina (ARG)    Argentina     ARG)\n",
       "4      Armenia (ARM)      Armenia     ARM)"
      ]
     },
     "execution_count": 10,
     "metadata": {},
     "output_type": "execute_result"
    }
   ],
   "source": [
    "#clean up new columns\n",
    "#get column names of df1\n",
    "df1.columns\n",
    "#rename 0 and 1 columns in df1\n",
    "df1.rename(columns={0 : 'Team', 1 : 'IOCcode'}, inplace = True)\n",
    "#check head of df1\n",
    "df1.head()"
   ]
  },
  {
   "cell_type": "code",
   "execution_count": 11,
   "metadata": {},
   "outputs": [
    {
     "data": {
      "text/plain": [
       "array(['AFG)', 'ALB)', 'ALG)', 'ARG)', 'ARM)', 'ANZ)[ANZ]',\n",
       "       'AUS)[AUS][Z]', 'AUT)', 'AZE)', 'BAH)', 'BRN)', 'BAR)[BAR]',\n",
       "       'BLR)', 'BEL)', 'BER)', 'BOH)[BOH][Z]', 'BOT)', 'BRA)',\n",
       "       'BWI)[BWI]', 'BUL)[H]', 'BUR)', 'BDI)', 'CMR)', 'CAN)', 'CPV)',\n",
       "       'CHI)[I]', 'CHN)[CHN]', 'COL)', 'CRC)', 'CIV)[CIV]', 'CRO)',\n",
       "       'CUB)[Z]', 'CYP)', 'CZE)[CZE]', 'TCH)[TCH]', 'DEN)[Z]', 'DJI)[B]',\n",
       "       'DMA)', 'DOM)', 'ECU)', 'EGY)[EGY][Z]', 'ERI)', 'EST)', 'ETH)',\n",
       "       'FIJ)', 'FIN)', 'FRA)[O][P][Z]', 'GAB)', 'GEO)', 'GER)[GER] [Z]',\n",
       "       'EUA)[EUA]', 'GDR)[GDR]', 'FRG)[FRG]', 'GHA)[GHA]', 'GBR)[GBR][Z]',\n",
       "       'GRE)', 'GRN)', 'GUA)', 'GUY)[GUY]', 'HAI)[J]', 'HKG)[HKG]',\n",
       "       'HUN)', 'ISL)', 'IND)[F]', 'INA)', 'IRI)[K]', 'IRQ)', 'IRL)',\n",
       "       'ISR)', 'ITA)[M][S]', 'JAM)[JAM]', 'JPN)', 'JOR)', 'KAZ)', 'KEN)',\n",
       "       'KOS)', 'PRK)', 'KOR)', 'KUW)', 'KGZ)', 'LAT)', 'LBN)', 'LIE)',\n",
       "       'LTU)', 'LUX)[O]', 'MAS)[MAS]', 'MRI)', 'MEX)', 'MDA)', 'MGL)',\n",
       "       'MNE)', 'MAR)', 'MOZ)', 'NAM)', 'NED)[Z]', 'AHO)[AHO][I]',\n",
       "       'NZL)[NZL]', 'NIG)', 'NGR)', 'MKD)', 'NOR)[Q]', 'PAK)', 'PAN)',\n",
       "       'PAR)', 'PER)[L]', 'PHI)', 'POL)', 'POR)', 'PUR)', 'QAT)', 'EOR)',\n",
       "       'ROU)', 'RUS)[RUS]', 'RU1)[RU1]', 'URS)[URS]', 'EUN)[EUN]',\n",
       "       'OAR)[OAR]', 'ROC)[ROC]', 'SAM)', 'LCA)', 'SMR)', 'KSA)', 'SEN)',\n",
       "       'SRB)[SRB]', 'SCG)[YUG/SCG]', 'SGP)', 'SVK)[SVK]', 'SLO)', 'RSA)',\n",
       "       'ESP)[Z]', 'SRI)[SRI]', 'SUD)', 'SUR)[E]', 'SWE)[Z]', 'SUI)',\n",
       "       'SYR)', 'TPE)[TPE][TPE2]', 'TJK)', 'TAN)[TAN]', 'THA)', 'TOG)',\n",
       "       'TGA)', 'TTO)[TTO]', 'TUN)', 'TUR)', 'TKM)', 'UGA)', 'UKR)',\n",
       "       'UAE)', 'USA)[P][Q][R][Z][F]', 'URU)', 'UZB)', 'VEN)', 'VIE)',\n",
       "       'ISV)', 'YUG)[YUG to 1992]', 'ZAM)[ZAM]', 'ZIM)[ZIM]', 'AIN)[AIN]',\n",
       "       'IOA)[IOA]', 'IOP)[IOP]', 'ZZX)[ZZX]'], dtype=object)"
      ]
     },
     "execution_count": 11,
     "metadata": {},
     "output_type": "execute_result"
    },
    {
     "data": {
      "text/plain": [
       "array(['AFG', 'ALB', 'ALG', 'ARG', 'ARM', 'ANZ[ANZ]', 'AUS[AUS][Z]',\n",
       "       'AUT', 'AZE', 'BAH', 'BRN', 'BAR[BAR]', 'BLR', 'BEL', 'BER',\n",
       "       'BOH[BOH][Z]', 'BOT', 'BRA', 'BWI[BWI]', 'BUL[H]', 'BUR', 'BDI',\n",
       "       'CMR', 'CAN', 'CPV', 'CHI[I]', 'CHN[CHN]', 'COL', 'CRC',\n",
       "       'CIV[CIV]', 'CRO', 'CUB[Z]', 'CYP', 'CZE[CZE]', 'TCH[TCH]',\n",
       "       'DEN[Z]', 'DJI[B]', 'DMA', 'DOM', 'ECU', 'EGY[EGY][Z]', 'ERI',\n",
       "       'EST', 'ETH', 'FIJ', 'FIN', 'FRA[O][P][Z]', 'GAB', 'GEO',\n",
       "       'GER[GER] [Z]', 'EUA[EUA]', 'GDR[GDR]', 'FRG[FRG]', 'GHA[GHA]',\n",
       "       'GBR[GBR][Z]', 'GRE', 'GRN', 'GUA', 'GUY[GUY]', 'HAI[J]',\n",
       "       'HKG[HKG]', 'HUN', 'ISL', 'IND[F]', 'INA', 'IRI[K]', 'IRQ', 'IRL',\n",
       "       'ISR', 'ITA[M][S]', 'JAM[JAM]', 'JPN', 'JOR', 'KAZ', 'KEN', 'KOS',\n",
       "       'PRK', 'KOR', 'KUW', 'KGZ', 'LAT', 'LBN', 'LIE', 'LTU', 'LUX[O]',\n",
       "       'MAS[MAS]', 'MRI', 'MEX', 'MDA', 'MGL', 'MNE', 'MAR', 'MOZ', 'NAM',\n",
       "       'NED[Z]', 'AHO[AHO][I]', 'NZL[NZL]', 'NIG', 'NGR', 'MKD', 'NOR[Q]',\n",
       "       'PAK', 'PAN', 'PAR', 'PER[L]', 'PHI', 'POL', 'POR', 'PUR', 'QAT',\n",
       "       'EOR', 'ROU', 'RUS[RUS]', 'RU1[RU1]', 'URS[URS]', 'EUN[EUN]',\n",
       "       'OAR[OAR]', 'ROC[ROC]', 'SAM', 'LCA', 'SMR', 'KSA', 'SEN',\n",
       "       'SRB[SRB]', 'SCG[YUG/SCG]', 'SGP', 'SVK[SVK]', 'SLO', 'RSA',\n",
       "       'ESP[Z]', 'SRI[SRI]', 'SUD', 'SUR[E]', 'SWE[Z]', 'SUI', 'SYR',\n",
       "       'TPE[TPE][TPE2]', 'TJK', 'TAN[TAN]', 'THA', 'TOG', 'TGA',\n",
       "       'TTO[TTO]', 'TUN', 'TUR', 'TKM', 'UGA', 'UKR', 'UAE',\n",
       "       'USA[P][Q][R][Z][F]', 'URU', 'UZB', 'VEN', 'VIE', 'ISV',\n",
       "       'YUG[YUG to 1992]', 'ZAM[ZAM]', 'ZIM[ZIM]', 'AIN[AIN]', 'IOA[IOA]',\n",
       "       'IOP[IOP]', 'ZZX[ZZX]'], dtype=object)"
      ]
     },
     "execution_count": 11,
     "metadata": {},
     "output_type": "execute_result"
    }
   ],
   "source": [
    "#check IOCcode column values\n",
    "df1['IOCcode'].unique()\n",
    "#drop extra text from IOC code column\n",
    "df1['IOCcode'] = df1['IOCcode'].str.replace(')', '')\n",
    "#check values on IOCcode\n",
    "df1['IOCcode'].unique()"
   ]
  },
  {
   "cell_type": "code",
   "execution_count": 12,
   "metadata": {},
   "outputs": [
    {
     "data": {
      "text/plain": [
       "array(['AFG', 'ALB', 'ALG', 'ARG', 'ARM', 'ANZ', 'AUS', 'AUT', 'AZE',\n",
       "       'BAH', 'BRN', 'BAR', 'BLR', 'BEL', 'BER', 'BOH', 'BOT', 'BRA',\n",
       "       'BWI', 'BUL', 'BUR', 'BDI', 'CMR', 'CAN', 'CPV', 'CHI', 'CHN',\n",
       "       'COL', 'CRC', 'CIV', 'CRO', 'CUB', 'CYP', 'CZE', 'TCH', 'DEN',\n",
       "       'DJI', 'DMA', 'DOM', 'ECU', 'EGY', 'ERI', 'EST', 'ETH', 'FIJ',\n",
       "       'FIN', 'FRA', 'GAB', 'GEO', 'GER', 'EUA', 'GDR', 'FRG', 'GHA',\n",
       "       'GBR', 'GRE', 'GRN', 'GUA', 'GUY', 'HAI', 'HKG', 'HUN', 'ISL',\n",
       "       'IND', 'INA', 'IRI', 'IRQ', 'IRL', 'ISR', 'ITA', 'JAM', 'JPN',\n",
       "       'JOR', 'KAZ', 'KEN', 'KOS', 'PRK', 'KOR', 'KUW', 'KGZ', 'LAT',\n",
       "       'LBN', 'LIE', 'LTU', 'LUX', 'MAS', 'MRI', 'MEX', 'MDA', 'MGL',\n",
       "       'MNE', 'MAR', 'MOZ', 'NAM', 'NED', 'AHO', 'NZL', 'NIG', 'NGR',\n",
       "       'MKD', 'NOR', 'PAK', 'PAN', 'PAR', 'PER', 'PHI', 'POL', 'POR',\n",
       "       'PUR', 'QAT', 'EOR', 'ROU', 'RUS', 'RU1', 'URS', 'EUN', 'OAR',\n",
       "       'ROC', 'SAM', 'LCA', 'SMR', 'KSA', 'SEN', 'SRB', 'SCG', 'SGP',\n",
       "       'SVK', 'SLO', 'RSA', 'ESP', 'SRI', 'SUD', 'SUR', 'SWE', 'SUI',\n",
       "       'SYR', 'TPE', 'TJK', 'TAN', 'THA', 'TOG', 'TGA', 'TTO', 'TUN',\n",
       "       'TUR', 'TKM', 'UGA', 'UKR', 'UAE', 'USA', 'URU', 'UZB', 'VEN',\n",
       "       'VIE', 'ISV', 'YUG', 'ZAM', 'ZIM', 'AIN', 'IOA', 'IOP', 'ZZX'],\n",
       "      dtype=object)"
      ]
     },
     "execution_count": 12,
     "metadata": {},
     "output_type": "execute_result"
    }
   ],
   "source": [
    "#drop extra text from IOC code column\n",
    "df1['IOCcode'] = df1['IOCcode'].str[:3]\n",
    "#check values on IOCcode\n",
    "df1['IOCcode'].unique()"
   ]
  },
  {
   "cell_type": "code",
   "execution_count": 13,
   "metadata": {},
   "outputs": [
    {
     "data": {
      "text/plain": [
       "pandas.core.frame.DataFrame"
      ]
     },
     "execution_count": 13,
     "metadata": {},
     "output_type": "execute_result"
    },
    {
     "data": {
      "text/plain": [
       "Index(['No.', 'Unnamed: 2_level_1', 'Unnamed: 3_level_1', 'Unnamed: 4_level_1',\n",
       "       'Unnamed: 5_level_1'],\n",
       "      dtype='object')"
      ]
     },
     "execution_count": 13,
     "metadata": {},
     "output_type": "execute_result"
    },
    {
     "data": {
      "text/plain": [
       "(162, 5)"
      ]
     },
     "execution_count": 13,
     "metadata": {},
     "output_type": "execute_result"
    },
    {
     "data": {
      "text/html": [
       "<div>\n",
       "<style scoped>\n",
       "    .dataframe tbody tr th:only-of-type {\n",
       "        vertical-align: middle;\n",
       "    }\n",
       "\n",
       "    .dataframe tbody tr th {\n",
       "        vertical-align: top;\n",
       "    }\n",
       "\n",
       "    .dataframe thead th {\n",
       "        text-align: right;\n",
       "    }\n",
       "</style>\n",
       "<table border=\"1\" class=\"dataframe\">\n",
       "  <thead>\n",
       "    <tr style=\"text-align: right;\">\n",
       "      <th></th>\n",
       "      <th>No.</th>\n",
       "      <th>Unnamed: 2_level_1</th>\n",
       "      <th>Unnamed: 3_level_1</th>\n",
       "      <th>Unnamed: 4_level_1</th>\n",
       "      <th>Unnamed: 5_level_1</th>\n",
       "    </tr>\n",
       "  </thead>\n",
       "  <tbody>\n",
       "    <tr>\n",
       "      <th>0</th>\n",
       "      <td>16</td>\n",
       "      <td>0</td>\n",
       "      <td>0</td>\n",
       "      <td>2</td>\n",
       "      <td>2</td>\n",
       "    </tr>\n",
       "    <tr>\n",
       "      <th>1</th>\n",
       "      <td>10</td>\n",
       "      <td>0</td>\n",
       "      <td>0</td>\n",
       "      <td>2</td>\n",
       "      <td>2</td>\n",
       "    </tr>\n",
       "    <tr>\n",
       "      <th>2</th>\n",
       "      <td>15</td>\n",
       "      <td>7</td>\n",
       "      <td>4</td>\n",
       "      <td>9</td>\n",
       "      <td>20</td>\n",
       "    </tr>\n",
       "    <tr>\n",
       "      <th>3</th>\n",
       "      <td>26</td>\n",
       "      <td>22</td>\n",
       "      <td>27</td>\n",
       "      <td>31</td>\n",
       "      <td>80</td>\n",
       "    </tr>\n",
       "    <tr>\n",
       "      <th>4</th>\n",
       "      <td>8</td>\n",
       "      <td>2</td>\n",
       "      <td>11</td>\n",
       "      <td>9</td>\n",
       "      <td>22</td>\n",
       "    </tr>\n",
       "  </tbody>\n",
       "</table>\n",
       "</div>"
      ],
      "text/plain": [
       "   No.  Unnamed: 2_level_1  Unnamed: 3_level_1  Unnamed: 4_level_1  \\\n",
       "0   16                   0                   0                   2   \n",
       "1   10                   0                   0                   2   \n",
       "2   15                   7                   4                   9   \n",
       "3   26                  22                  27                  31   \n",
       "4    8                   2                  11                   9   \n",
       "\n",
       "   Unnamed: 5_level_1  \n",
       "0                   2  \n",
       "1                   2  \n",
       "2                  20  \n",
       "3                  80  \n",
       "4                  22  "
      ]
     },
     "execution_count": 13,
     "metadata": {},
     "output_type": "execute_result"
    },
    {
     "data": {
      "text/plain": [
       "Index(['Team (IOC code)', 'Team', 'IOCcode', 'Games_summer', 'Gold_summer',\n",
       "       'Silver_summer', 'Bronze_summer', 'Total_summer'],\n",
       "      dtype='object')"
      ]
     },
     "execution_count": 13,
     "metadata": {},
     "output_type": "execute_result"
    }
   ],
   "source": [
    "#working on Summer columns\n",
    "Summer = df['Summer Olympic Games']\n",
    "#type of Summer\n",
    "type(Summer)\n",
    "#name of columns in Summer\n",
    "Summer.columns\n",
    "#number of rows and columns in Summer\n",
    "Summer.shape\n",
    "#get first 5 rows of Summer\n",
    "Summer.head()\n",
    "#add Summer to df1\n",
    "df1 = pd.concat([df1,Summer], axis=1)\n",
    "#rename Summer columns in df1 \n",
    "df1.rename(columns={'No.' : 'Games_summer', \n",
    "                       'Unnamed: 2_level_1' : 'Gold_summer',\n",
    "                         'Unnamed: 3_level_1' : 'Silver_summer', \n",
    "                         'Unnamed: 4_level_1':'Bronze_summer',\n",
    "       'Unnamed: 5_level_1':'Total_summer'}, inplace = True)\n",
    "#check columns in df1\n",
    "df1.columns"
   ]
  },
  {
   "cell_type": "code",
   "execution_count": 14,
   "metadata": {},
   "outputs": [
    {
     "data": {
      "text/plain": [
       "pandas.core.frame.DataFrame"
      ]
     },
     "execution_count": 14,
     "metadata": {},
     "output_type": "execute_result"
    },
    {
     "data": {
      "text/plain": [
       "Index(['No.', 'Unnamed: 7_level_1', 'Unnamed: 8_level_1', 'Unnamed: 9_level_1',\n",
       "       'Unnamed: 10_level_1'],\n",
       "      dtype='object')"
      ]
     },
     "execution_count": 14,
     "metadata": {},
     "output_type": "execute_result"
    },
    {
     "data": {
      "text/plain": [
       "(162, 5)"
      ]
     },
     "execution_count": 14,
     "metadata": {},
     "output_type": "execute_result"
    },
    {
     "data": {
      "text/html": [
       "<div>\n",
       "<style scoped>\n",
       "    .dataframe tbody tr th:only-of-type {\n",
       "        vertical-align: middle;\n",
       "    }\n",
       "\n",
       "    .dataframe tbody tr th {\n",
       "        vertical-align: top;\n",
       "    }\n",
       "\n",
       "    .dataframe thead th {\n",
       "        text-align: right;\n",
       "    }\n",
       "</style>\n",
       "<table border=\"1\" class=\"dataframe\">\n",
       "  <thead>\n",
       "    <tr style=\"text-align: right;\">\n",
       "      <th></th>\n",
       "      <th>No.</th>\n",
       "      <th>Unnamed: 7_level_1</th>\n",
       "      <th>Unnamed: 8_level_1</th>\n",
       "      <th>Unnamed: 9_level_1</th>\n",
       "      <th>Unnamed: 10_level_1</th>\n",
       "    </tr>\n",
       "  </thead>\n",
       "  <tbody>\n",
       "    <tr>\n",
       "      <th>0</th>\n",
       "      <td>0</td>\n",
       "      <td>0</td>\n",
       "      <td>0</td>\n",
       "      <td>0</td>\n",
       "      <td>0</td>\n",
       "    </tr>\n",
       "    <tr>\n",
       "      <th>1</th>\n",
       "      <td>5</td>\n",
       "      <td>0</td>\n",
       "      <td>0</td>\n",
       "      <td>0</td>\n",
       "      <td>0</td>\n",
       "    </tr>\n",
       "    <tr>\n",
       "      <th>2</th>\n",
       "      <td>3</td>\n",
       "      <td>0</td>\n",
       "      <td>0</td>\n",
       "      <td>0</td>\n",
       "      <td>0</td>\n",
       "    </tr>\n",
       "    <tr>\n",
       "      <th>3</th>\n",
       "      <td>20</td>\n",
       "      <td>0</td>\n",
       "      <td>0</td>\n",
       "      <td>0</td>\n",
       "      <td>0</td>\n",
       "    </tr>\n",
       "    <tr>\n",
       "      <th>4</th>\n",
       "      <td>8</td>\n",
       "      <td>0</td>\n",
       "      <td>0</td>\n",
       "      <td>0</td>\n",
       "      <td>0</td>\n",
       "    </tr>\n",
       "  </tbody>\n",
       "</table>\n",
       "</div>"
      ],
      "text/plain": [
       "   No.  Unnamed: 7_level_1  Unnamed: 8_level_1  Unnamed: 9_level_1  \\\n",
       "0    0                   0                   0                   0   \n",
       "1    5                   0                   0                   0   \n",
       "2    3                   0                   0                   0   \n",
       "3   20                   0                   0                   0   \n",
       "4    8                   0                   0                   0   \n",
       "\n",
       "   Unnamed: 10_level_1  \n",
       "0                    0  \n",
       "1                    0  \n",
       "2                    0  \n",
       "3                    0  \n",
       "4                    0  "
      ]
     },
     "execution_count": 14,
     "metadata": {},
     "output_type": "execute_result"
    },
    {
     "data": {
      "text/plain": [
       "Index(['Team (IOC code)', 'Team', 'IOCcode', 'Games_summer', 'Gold_summer',\n",
       "       'Silver_summer', 'Bronze_summer', 'Total_summer', 'Games_winter',\n",
       "       'Gold_winter', 'Silver_winter', 'Bronze_winter', 'Total_winter'],\n",
       "      dtype='object')"
      ]
     },
     "execution_count": 14,
     "metadata": {},
     "output_type": "execute_result"
    }
   ],
   "source": [
    "#working on Winter columns\n",
    "Winter = df['Winter Olympic Games']\n",
    "#type of Winter\n",
    "type(Winter)\n",
    "#columns in Winter\n",
    "Winter.columns\n",
    "#number of rows and columns\n",
    "Winter.shape\n",
    "#first 5 rows in Winter\n",
    "Winter.head()\n",
    "#add Winter to df1\n",
    "df1 = pd.concat([df1,Winter], axis=1)\n",
    "#rename Winter columns in df1\n",
    "df1.rename(columns={'No.' : 'Games_winter', \n",
    "                       'Unnamed: 7_level_1' : 'Gold_winter',\n",
    "                         'Unnamed: 8_level_1' : 'Silver_winter', \n",
    "                         'Unnamed: 9_level_1':'Bronze_winter',\n",
    "       'Unnamed: 10_level_1':'Total_winter'}, inplace = True)\n",
    "#check columns\n",
    "df1.columns"
   ]
  },
  {
   "cell_type": "code",
   "execution_count": 15,
   "metadata": {},
   "outputs": [
    {
     "data": {
      "text/plain": [
       "pandas.core.frame.DataFrame"
      ]
     },
     "execution_count": 15,
     "metadata": {},
     "output_type": "execute_result"
    },
    {
     "data": {
      "text/plain": [
       "Index(['No.', 'Unnamed: 12_level_1', 'Unnamed: 13_level_1',\n",
       "       'Unnamed: 14_level_1', 'Unnamed: 15_level_1'],\n",
       "      dtype='object')"
      ]
     },
     "execution_count": 15,
     "metadata": {},
     "output_type": "execute_result"
    },
    {
     "data": {
      "text/plain": [
       "(162, 5)"
      ]
     },
     "execution_count": 15,
     "metadata": {},
     "output_type": "execute_result"
    },
    {
     "data": {
      "text/html": [
       "<div>\n",
       "<style scoped>\n",
       "    .dataframe tbody tr th:only-of-type {\n",
       "        vertical-align: middle;\n",
       "    }\n",
       "\n",
       "    .dataframe tbody tr th {\n",
       "        vertical-align: top;\n",
       "    }\n",
       "\n",
       "    .dataframe thead th {\n",
       "        text-align: right;\n",
       "    }\n",
       "</style>\n",
       "<table border=\"1\" class=\"dataframe\">\n",
       "  <thead>\n",
       "    <tr style=\"text-align: right;\">\n",
       "      <th></th>\n",
       "      <th>No.</th>\n",
       "      <th>Unnamed: 12_level_1</th>\n",
       "      <th>Unnamed: 13_level_1</th>\n",
       "      <th>Unnamed: 14_level_1</th>\n",
       "      <th>Unnamed: 15_level_1</th>\n",
       "    </tr>\n",
       "  </thead>\n",
       "  <tbody>\n",
       "    <tr>\n",
       "      <th>0</th>\n",
       "      <td>16</td>\n",
       "      <td>0</td>\n",
       "      <td>0</td>\n",
       "      <td>2</td>\n",
       "      <td>2</td>\n",
       "    </tr>\n",
       "    <tr>\n",
       "      <th>1</th>\n",
       "      <td>15</td>\n",
       "      <td>0</td>\n",
       "      <td>0</td>\n",
       "      <td>2</td>\n",
       "      <td>2</td>\n",
       "    </tr>\n",
       "    <tr>\n",
       "      <th>2</th>\n",
       "      <td>18</td>\n",
       "      <td>7</td>\n",
       "      <td>4</td>\n",
       "      <td>9</td>\n",
       "      <td>20</td>\n",
       "    </tr>\n",
       "    <tr>\n",
       "      <th>3</th>\n",
       "      <td>46</td>\n",
       "      <td>22</td>\n",
       "      <td>27</td>\n",
       "      <td>31</td>\n",
       "      <td>80</td>\n",
       "    </tr>\n",
       "    <tr>\n",
       "      <th>4</th>\n",
       "      <td>16</td>\n",
       "      <td>2</td>\n",
       "      <td>11</td>\n",
       "      <td>9</td>\n",
       "      <td>22</td>\n",
       "    </tr>\n",
       "  </tbody>\n",
       "</table>\n",
       "</div>"
      ],
      "text/plain": [
       "   No.  Unnamed: 12_level_1  Unnamed: 13_level_1  Unnamed: 14_level_1  \\\n",
       "0   16                    0                    0                    2   \n",
       "1   15                    0                    0                    2   \n",
       "2   18                    7                    4                    9   \n",
       "3   46                   22                   27                   31   \n",
       "4   16                    2                   11                    9   \n",
       "\n",
       "   Unnamed: 15_level_1  \n",
       "0                    2  \n",
       "1                    2  \n",
       "2                   20  \n",
       "3                   80  \n",
       "4                   22  "
      ]
     },
     "execution_count": 15,
     "metadata": {},
     "output_type": "execute_result"
    },
    {
     "data": {
      "text/plain": [
       "Index(['Team (IOC code)', 'Team', 'IOCcode', 'Games_summer', 'Gold_summer',\n",
       "       'Silver_summer', 'Bronze_summer', 'Total_summer', 'Games_winter',\n",
       "       'Gold_winter', 'Silver_winter', 'Bronze_winter', 'Total_winter',\n",
       "       'Games_total', 'Gold_total', 'Silver_total', 'Bronze_total',\n",
       "       'Totalmedals'],\n",
       "      dtype='object')"
      ]
     },
     "execution_count": 15,
     "metadata": {},
     "output_type": "execute_result"
    }
   ],
   "source": [
    "#working on Combined total columns\n",
    "Combo = df['Combined total']\n",
    "#type of Combo\n",
    "type(Combo)\n",
    "#columns in Combo\n",
    "Combo.columns\n",
    "#number of rows and columns\n",
    "Combo.shape\n",
    "#first few rows of Combo\n",
    "Combo.head()\n",
    "#add Combo columns to df1\n",
    "df1 = pd.concat([df1,Combo], axis=1)\n",
    "#rename Combo columns \n",
    "df1.rename(columns={'No.' : 'Games_total', \n",
    "                       'Unnamed: 12_level_1' : 'Gold_total',\n",
    "                         'Unnamed: 13_level_1' : 'Silver_total', \n",
    "                         'Unnamed: 14_level_1':'Bronze_total',\n",
    "       'Unnamed: 15_level_1':'Totalmedals'}, inplace = True)\n",
    "#check columns\n",
    "df1.columns"
   ]
  },
  {
   "cell_type": "code",
   "execution_count": 16,
   "metadata": {},
   "outputs": [
    {
     "name": "stdout",
     "output_type": "stream",
     "text": [
      "<class 'pandas.core.frame.DataFrame'>\n",
      "RangeIndex: 162 entries, 0 to 161\n",
      "Data columns (total 18 columns):\n",
      " #   Column           Non-Null Count  Dtype \n",
      "---  ------           --------------  ----- \n",
      " 0   Team (IOC code)  162 non-null    object\n",
      " 1   Team             162 non-null    object\n",
      " 2   IOCcode          162 non-null    object\n",
      " 3   Games_summer     162 non-null    int64 \n",
      " 4   Gold_summer      162 non-null    int64 \n",
      " 5   Silver_summer    162 non-null    int64 \n",
      " 6   Bronze_summer    162 non-null    int64 \n",
      " 7   Total_summer     162 non-null    int64 \n",
      " 8   Games_winter     162 non-null    int64 \n",
      " 9   Gold_winter      162 non-null    int64 \n",
      " 10  Silver_winter    162 non-null    int64 \n",
      " 11  Bronze_winter    162 non-null    int64 \n",
      " 12  Total_winter     162 non-null    int64 \n",
      " 13  Games_total      162 non-null    int64 \n",
      " 14  Gold_total       162 non-null    int64 \n",
      " 15  Silver_total     162 non-null    int64 \n",
      " 16  Bronze_total     162 non-null    int64 \n",
      " 17  Totalmedals      162 non-null    int64 \n",
      "dtypes: int64(15), object(3)\n",
      "memory usage: 22.9+ KB\n"
     ]
    },
    {
     "data": {
      "text/plain": [
       "(162, 18)"
      ]
     },
     "execution_count": 16,
     "metadata": {},
     "output_type": "execute_result"
    },
    {
     "data": {
      "text/html": [
       "<div>\n",
       "<style scoped>\n",
       "    .dataframe tbody tr th:only-of-type {\n",
       "        vertical-align: middle;\n",
       "    }\n",
       "\n",
       "    .dataframe tbody tr th {\n",
       "        vertical-align: top;\n",
       "    }\n",
       "\n",
       "    .dataframe thead th {\n",
       "        text-align: right;\n",
       "    }\n",
       "</style>\n",
       "<table border=\"1\" class=\"dataframe\">\n",
       "  <thead>\n",
       "    <tr style=\"text-align: right;\">\n",
       "      <th></th>\n",
       "      <th>Team (IOC code)</th>\n",
       "      <th>Team</th>\n",
       "      <th>IOCcode</th>\n",
       "      <th>Games_summer</th>\n",
       "      <th>Gold_summer</th>\n",
       "      <th>Silver_summer</th>\n",
       "      <th>Bronze_summer</th>\n",
       "      <th>Total_summer</th>\n",
       "      <th>Games_winter</th>\n",
       "      <th>Gold_winter</th>\n",
       "      <th>Silver_winter</th>\n",
       "      <th>Bronze_winter</th>\n",
       "      <th>Total_winter</th>\n",
       "      <th>Games_total</th>\n",
       "      <th>Gold_total</th>\n",
       "      <th>Silver_total</th>\n",
       "      <th>Bronze_total</th>\n",
       "      <th>Totalmedals</th>\n",
       "    </tr>\n",
       "  </thead>\n",
       "  <tbody>\n",
       "    <tr>\n",
       "      <th>0</th>\n",
       "      <td>Afghanistan (AFG)</td>\n",
       "      <td>Afghanistan</td>\n",
       "      <td>AFG</td>\n",
       "      <td>16</td>\n",
       "      <td>0</td>\n",
       "      <td>0</td>\n",
       "      <td>2</td>\n",
       "      <td>2</td>\n",
       "      <td>0</td>\n",
       "      <td>0</td>\n",
       "      <td>0</td>\n",
       "      <td>0</td>\n",
       "      <td>0</td>\n",
       "      <td>16</td>\n",
       "      <td>0</td>\n",
       "      <td>0</td>\n",
       "      <td>2</td>\n",
       "      <td>2</td>\n",
       "    </tr>\n",
       "  </tbody>\n",
       "</table>\n",
       "</div>"
      ],
      "text/plain": [
       "     Team (IOC code)          Team IOCcode  Games_summer  Gold_summer  \\\n",
       "0  Afghanistan (AFG)  Afghanistan      AFG            16            0   \n",
       "\n",
       "   Silver_summer  Bronze_summer  Total_summer  Games_winter  Gold_winter  \\\n",
       "0              0              2             2             0            0   \n",
       "\n",
       "   Silver_winter  Bronze_winter  Total_winter  Games_total  Gold_total  \\\n",
       "0              0              0             0           16           0   \n",
       "\n",
       "   Silver_total  Bronze_total  Totalmedals  \n",
       "0             0             2            2  "
      ]
     },
     "execution_count": 16,
     "metadata": {},
     "output_type": "execute_result"
    }
   ],
   "source": [
    "#information about dataframe\n",
    "df1.info()\n",
    "#number of rows and columns\n",
    "df1.shape\n",
    "#first row of dataframe\n",
    "df1.head(1)"
   ]
  }
 ],
 "metadata": {
  "kernelspec": {
   "display_name": "Python 3",
   "language": "python",
   "name": "python3"
  },
  "language_info": {
   "codemirror_mode": {
    "name": "ipython",
    "version": 3
   },
   "file_extension": ".py",
   "mimetype": "text/x-python",
   "name": "python",
   "nbconvert_exporter": "python",
   "pygments_lexer": "ipython3",
   "version": "3.12.5"
  }
 },
 "nbformat": 4,
 "nbformat_minor": 2
}
