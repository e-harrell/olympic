{
 "cells": [
  {
   "cell_type": "markdown",
   "metadata": {},
   "source": [
    "## Project examining All-Time Olympic Medal counts"
   ]
  },
  {
   "cell_type": "code",
   "execution_count": 8,
   "metadata": {},
   "outputs": [],
   "source": [
    "# importing Python libraries\n",
    "import requests \n",
    "import pandas as pd\n",
    "from bs4 import BeautifulSoup\n",
    "from io import StringIO\n",
    "#show all output in each cell\n",
    "from IPython.core.interactiveshell import InteractiveShell\n",
    "InteractiveShell.ast_node_interactivity = \"all\""
   ]
  },
  {
   "cell_type": "code",
   "execution_count": 9,
   "metadata": {},
   "outputs": [
    {
     "name": "stdout",
     "output_type": "stream",
     "text": [
      "[                                            Team Summer Olympic Games  \\\n",
      "                                 Team (IOC code)                  No.   \n",
      "0                              Afghanistan (AFG)                   16   \n",
      "1                                  Albania (ALB)                   10   \n",
      "2                                  Algeria (ALG)                   15   \n",
      "3                                Argentina (ARG)                   26   \n",
      "4                                  Armenia (ARM)                    8   \n",
      "..                                           ...                  ...   \n",
      "158       Individual Neutral Athletes (AIN)[AIN]                    1   \n",
      "159      Independent Olympic Athletes (IOA)[IOA]                    3   \n",
      "160  Independent Olympic Participants (IOP)[IOP]                    1   \n",
      "161                        Mixed team (ZZX)[ZZX]                    3   \n",
      "162                                       Totals                   30   \n",
      "\n",
      "                                                              \\\n",
      "    Unnamed: 2_level_1 Unnamed: 3_level_1 Unnamed: 4_level_1   \n",
      "0                    0                  0                  2   \n",
      "1                    0                  0                  2   \n",
      "2                    7                  4                  9   \n",
      "3                   22                 27                 31   \n",
      "4                    2                 11                  9   \n",
      "..                 ...                ...                ...   \n",
      "158                  1                  3                  1   \n",
      "159                  1                  0                  1   \n",
      "160                  0                  1                  2   \n",
      "161                 11                  6                  8   \n",
      "162               5789               5759               6277   \n",
      "\n",
      "                       Winter Olympic Games                     \\\n",
      "    Unnamed: 5_level_1                  No. Unnamed: 7_level_1   \n",
      "0                    2                    0                  0   \n",
      "1                    2                    5                  0   \n",
      "2                   20                    3                  0   \n",
      "3                   80                   20                  0   \n",
      "4                   22                    8                  0   \n",
      "..                 ...                  ...                ...   \n",
      "158                  1                    0                  0   \n",
      "159                  2                    0                  0   \n",
      "160                  3                    0                  0   \n",
      "161                 25                    0                  0   \n",
      "162              17825                   24               1171   \n",
      "\n",
      "                                                              Combined total  \\\n",
      "    Unnamed: 8_level_1 Unnamed: 9_level_1 Unnamed: 10_level_1            No.   \n",
      "0                    0                  0                   0             16   \n",
      "1                    0                  0                   0             15   \n",
      "2                    0                  0                   0             18   \n",
      "3                    0                  0                   0             46   \n",
      "4                    0                  0                   0             16   \n",
      "..                 ...                ...                 ...            ...   \n",
      "158                  0                  0                   0              1   \n",
      "159                  0                  0                   0              3   \n",
      "160                  0                  0                   0              1   \n",
      "161                  0                  0                   0              3   \n",
      "162               1169               1160                3500             54   \n",
      "\n",
      "                                                                 \\\n",
      "    Unnamed: 12_level_1 Unnamed: 13_level_1 Unnamed: 14_level_1   \n",
      "0                     0                   0                   2   \n",
      "1                     0                   0                   2   \n",
      "2                     7                   4                   9   \n",
      "3                    22                  27                  31   \n",
      "4                     2                  11                   9   \n",
      "..                  ...                 ...                 ...   \n",
      "158                   1                   3                   1   \n",
      "159                   1                   0                   1   \n",
      "160                   0                   1                   2   \n",
      "161                  11                   6                   8   \n",
      "162                6960                6928                7437   \n",
      "\n",
      "                         \n",
      "    Unnamed: 15_level_1  \n",
      "0                     2  \n",
      "1                     2  \n",
      "2                    20  \n",
      "3                    80  \n",
      "4                    22  \n",
      "..                  ...  \n",
      "158                   5  \n",
      "159                   2  \n",
      "160                   3  \n",
      "161                  25  \n",
      "162               21325  \n",
      "\n",
      "[163 rows x 16 columns]]\n"
     ]
    }
   ],
   "source": [
    "#scraping table from Wikipedia site\n",
    "url = \"https://en.wikipedia.org/wiki/All-time_Olympic_Games_medal_table\"\n",
    "#sending url to requests to create HTML object\n",
    "response = requests.get(url)\n",
    "#using Beautiful Soup's HTML parser to parse content in HTML object\n",
    "soup = BeautifulSoup(response.content, \"html.parser\")\n",
    "#finding all objects in URL with table label\n",
    "tables = soup.find_all(\"table\")\n",
    "# getting the second element of tables wihch is the first table on the wikipdeia page\n",
    "df1 = pd.read_html(StringIO(str(tables[1])))\n",
    "# printing element\n",
    "print(df1)"
   ]
  },
  {
   "cell_type": "code",
   "execution_count": 10,
   "metadata": {},
   "outputs": [
    {
     "data": {
      "text/plain": [
       "list"
      ]
     },
     "execution_count": 10,
     "metadata": {},
     "output_type": "execute_result"
    },
    {
     "data": {
      "text/plain": [
       "1"
      ]
     },
     "execution_count": 10,
     "metadata": {},
     "output_type": "execute_result"
    },
    {
     "data": {
      "text/plain": [
       "pandas.core.frame.DataFrame"
      ]
     },
     "execution_count": 10,
     "metadata": {},
     "output_type": "execute_result"
    }
   ],
   "source": [
    "#get information about df1\n",
    "type(df1)\n",
    "len(df1)\n",
    "type(df1[0])"
   ]
  },
  {
   "cell_type": "code",
   "execution_count": 12,
   "metadata": {},
   "outputs": [
    {
     "data": {
      "text/plain": [
       "pandas.core.frame.DataFrame"
      ]
     },
     "execution_count": 12,
     "metadata": {},
     "output_type": "execute_result"
    }
   ],
   "source": [
    "#get dataframe out of list\n",
    "df = df1[0]\n",
    "type(df)"
   ]
  },
  {
   "cell_type": "code",
   "execution_count": 13,
   "metadata": {},
   "outputs": [
    {
     "name": "stdout",
     "output_type": "stream",
     "text": [
      "<class 'pandas.core.frame.DataFrame'>\n",
      "RangeIndex: 163 entries, 0 to 162\n",
      "Data columns (total 16 columns):\n",
      " #   Column                                       Non-Null Count  Dtype \n",
      "---  ------                                       --------------  ----- \n",
      " 0   (Team, Team (IOC code))                      163 non-null    object\n",
      " 1   (Summer Olympic Games, No.)                  163 non-null    int64 \n",
      " 2   (Summer Olympic Games, Unnamed: 2_level_1)   163 non-null    int64 \n",
      " 3   (Summer Olympic Games, Unnamed: 3_level_1)   163 non-null    int64 \n",
      " 4   (Summer Olympic Games, Unnamed: 4_level_1)   163 non-null    int64 \n",
      " 5   (Summer Olympic Games, Unnamed: 5_level_1)   163 non-null    int64 \n",
      " 6   (Winter Olympic Games, No.)                  163 non-null    int64 \n",
      " 7   (Winter Olympic Games, Unnamed: 7_level_1)   163 non-null    int64 \n",
      " 8   (Winter Olympic Games, Unnamed: 8_level_1)   163 non-null    int64 \n",
      " 9   (Winter Olympic Games, Unnamed: 9_level_1)   163 non-null    int64 \n",
      " 10  (Winter Olympic Games, Unnamed: 10_level_1)  163 non-null    int64 \n",
      " 11  (Combined total, No.)                        163 non-null    int64 \n",
      " 12  (Combined total, Unnamed: 12_level_1)        163 non-null    int64 \n",
      " 13  (Combined total, Unnamed: 13_level_1)        163 non-null    int64 \n",
      " 14  (Combined total, Unnamed: 14_level_1)        163 non-null    int64 \n",
      " 15  (Combined total, Unnamed: 15_level_1)        163 non-null    int64 \n",
      "dtypes: int64(15), object(1)\n",
      "memory usage: 20.5+ KB\n"
     ]
    }
   ],
   "source": [
    "# get information about dataframe\n",
    "df.info()\n"
   ]
  },
  {
   "cell_type": "code",
   "execution_count": 14,
   "metadata": {},
   "outputs": [
    {
     "name": "stdout",
     "output_type": "stream",
     "text": [
      "<bound method NDFrame.head of                                             Team Summer Olympic Games  \\\n",
      "                                 Team (IOC code)                  No.   \n",
      "0                              Afghanistan (AFG)                   16   \n",
      "1                                  Albania (ALB)                   10   \n",
      "2                                  Algeria (ALG)                   15   \n",
      "3                                Argentina (ARG)                   26   \n",
      "4                                  Armenia (ARM)                    8   \n",
      "..                                           ...                  ...   \n",
      "158       Individual Neutral Athletes (AIN)[AIN]                    1   \n",
      "159      Independent Olympic Athletes (IOA)[IOA]                    3   \n",
      "160  Independent Olympic Participants (IOP)[IOP]                    1   \n",
      "161                        Mixed team (ZZX)[ZZX]                    3   \n",
      "162                                       Totals                   30   \n",
      "\n",
      "                                                              \\\n",
      "    Unnamed: 2_level_1 Unnamed: 3_level_1 Unnamed: 4_level_1   \n",
      "0                    0                  0                  2   \n",
      "1                    0                  0                  2   \n",
      "2                    7                  4                  9   \n",
      "3                   22                 27                 31   \n",
      "4                    2                 11                  9   \n",
      "..                 ...                ...                ...   \n",
      "158                  1                  3                  1   \n",
      "159                  1                  0                  1   \n",
      "160                  0                  1                  2   \n",
      "161                 11                  6                  8   \n",
      "162               5789               5759               6277   \n",
      "\n",
      "                       Winter Olympic Games                     \\\n",
      "    Unnamed: 5_level_1                  No. Unnamed: 7_level_1   \n",
      "0                    2                    0                  0   \n",
      "1                    2                    5                  0   \n",
      "2                   20                    3                  0   \n",
      "3                   80                   20                  0   \n",
      "4                   22                    8                  0   \n",
      "..                 ...                  ...                ...   \n",
      "158                  1                    0                  0   \n",
      "159                  2                    0                  0   \n",
      "160                  3                    0                  0   \n",
      "161                 25                    0                  0   \n",
      "162              17825                   24               1171   \n",
      "\n",
      "                                                              Combined total  \\\n",
      "    Unnamed: 8_level_1 Unnamed: 9_level_1 Unnamed: 10_level_1            No.   \n",
      "0                    0                  0                   0             16   \n",
      "1                    0                  0                   0             15   \n",
      "2                    0                  0                   0             18   \n",
      "3                    0                  0                   0             46   \n",
      "4                    0                  0                   0             16   \n",
      "..                 ...                ...                 ...            ...   \n",
      "158                  0                  0                   0              1   \n",
      "159                  0                  0                   0              3   \n",
      "160                  0                  0                   0              1   \n",
      "161                  0                  0                   0              3   \n",
      "162               1169               1160                3500             54   \n",
      "\n",
      "                                                                 \\\n",
      "    Unnamed: 12_level_1 Unnamed: 13_level_1 Unnamed: 14_level_1   \n",
      "0                     0                   0                   2   \n",
      "1                     0                   0                   2   \n",
      "2                     7                   4                   9   \n",
      "3                    22                  27                  31   \n",
      "4                     2                  11                   9   \n",
      "..                  ...                 ...                 ...   \n",
      "158                   1                   3                   1   \n",
      "159                   1                   0                   1   \n",
      "160                   0                   1                   2   \n",
      "161                  11                   6                   8   \n",
      "162                6960                6928                7437   \n",
      "\n",
      "                         \n",
      "    Unnamed: 15_level_1  \n",
      "0                     2  \n",
      "1                     2  \n",
      "2                    20  \n",
      "3                    80  \n",
      "4                    22  \n",
      "..                  ...  \n",
      "158                   5  \n",
      "159                   2  \n",
      "160                   3  \n",
      "161                  25  \n",
      "162               21325  \n",
      "\n",
      "[163 rows x 16 columns]>\n"
     ]
    }
   ],
   "source": [
    "#look at first 5 rows of dataframe\n",
    "print(df.head)"
   ]
  },
  {
   "cell_type": "code",
   "execution_count": 15,
   "metadata": {},
   "outputs": [
    {
     "name": "stdout",
     "output_type": "stream",
     "text": [
      "<bound method NDFrame.tail of                                             Team Summer Olympic Games  \\\n",
      "                                 Team (IOC code)                  No.   \n",
      "0                              Afghanistan (AFG)                   16   \n",
      "1                                  Albania (ALB)                   10   \n",
      "2                                  Algeria (ALG)                   15   \n",
      "3                                Argentina (ARG)                   26   \n",
      "4                                  Armenia (ARM)                    8   \n",
      "..                                           ...                  ...   \n",
      "158       Individual Neutral Athletes (AIN)[AIN]                    1   \n",
      "159      Independent Olympic Athletes (IOA)[IOA]                    3   \n",
      "160  Independent Olympic Participants (IOP)[IOP]                    1   \n",
      "161                        Mixed team (ZZX)[ZZX]                    3   \n",
      "162                                       Totals                   30   \n",
      "\n",
      "                                                              \\\n",
      "    Unnamed: 2_level_1 Unnamed: 3_level_1 Unnamed: 4_level_1   \n",
      "0                    0                  0                  2   \n",
      "1                    0                  0                  2   \n",
      "2                    7                  4                  9   \n",
      "3                   22                 27                 31   \n",
      "4                    2                 11                  9   \n",
      "..                 ...                ...                ...   \n",
      "158                  1                  3                  1   \n",
      "159                  1                  0                  1   \n",
      "160                  0                  1                  2   \n",
      "161                 11                  6                  8   \n",
      "162               5789               5759               6277   \n",
      "\n",
      "                       Winter Olympic Games                     \\\n",
      "    Unnamed: 5_level_1                  No. Unnamed: 7_level_1   \n",
      "0                    2                    0                  0   \n",
      "1                    2                    5                  0   \n",
      "2                   20                    3                  0   \n",
      "3                   80                   20                  0   \n",
      "4                   22                    8                  0   \n",
      "..                 ...                  ...                ...   \n",
      "158                  1                    0                  0   \n",
      "159                  2                    0                  0   \n",
      "160                  3                    0                  0   \n",
      "161                 25                    0                  0   \n",
      "162              17825                   24               1171   \n",
      "\n",
      "                                                              Combined total  \\\n",
      "    Unnamed: 8_level_1 Unnamed: 9_level_1 Unnamed: 10_level_1            No.   \n",
      "0                    0                  0                   0             16   \n",
      "1                    0                  0                   0             15   \n",
      "2                    0                  0                   0             18   \n",
      "3                    0                  0                   0             46   \n",
      "4                    0                  0                   0             16   \n",
      "..                 ...                ...                 ...            ...   \n",
      "158                  0                  0                   0              1   \n",
      "159                  0                  0                   0              3   \n",
      "160                  0                  0                   0              1   \n",
      "161                  0                  0                   0              3   \n",
      "162               1169               1160                3500             54   \n",
      "\n",
      "                                                                 \\\n",
      "    Unnamed: 12_level_1 Unnamed: 13_level_1 Unnamed: 14_level_1   \n",
      "0                     0                   0                   2   \n",
      "1                     0                   0                   2   \n",
      "2                     7                   4                   9   \n",
      "3                    22                  27                  31   \n",
      "4                     2                  11                   9   \n",
      "..                  ...                 ...                 ...   \n",
      "158                   1                   3                   1   \n",
      "159                   1                   0                   1   \n",
      "160                   0                   1                   2   \n",
      "161                  11                   6                   8   \n",
      "162                6960                6928                7437   \n",
      "\n",
      "                         \n",
      "    Unnamed: 15_level_1  \n",
      "0                     2  \n",
      "1                     2  \n",
      "2                    20  \n",
      "3                    80  \n",
      "4                    22  \n",
      "..                  ...  \n",
      "158                   5  \n",
      "159                   2  \n",
      "160                   3  \n",
      "161                  25  \n",
      "162               21325  \n",
      "\n",
      "[163 rows x 16 columns]>\n"
     ]
    }
   ],
   "source": [
    "# look at last 5 rows of data frame\n",
    "print(df.tail)"
   ]
  },
  {
   "cell_type": "code",
   "execution_count": 17,
   "metadata": {},
   "outputs": [
    {
     "name": "stdout",
     "output_type": "stream",
     "text": [
      "MultiIndex([(                'Team',     'Team (IOC code)'),\n",
      "            ('Summer Olympic Games',                 'No.'),\n",
      "            ('Summer Olympic Games',  'Unnamed: 2_level_1'),\n",
      "            ('Summer Olympic Games',  'Unnamed: 3_level_1'),\n",
      "            ('Summer Olympic Games',  'Unnamed: 4_level_1'),\n",
      "            ('Summer Olympic Games',  'Unnamed: 5_level_1'),\n",
      "            ('Winter Olympic Games',                 'No.'),\n",
      "            ('Winter Olympic Games',  'Unnamed: 7_level_1'),\n",
      "            ('Winter Olympic Games',  'Unnamed: 8_level_1'),\n",
      "            ('Winter Olympic Games',  'Unnamed: 9_level_1'),\n",
      "            ('Winter Olympic Games', 'Unnamed: 10_level_1'),\n",
      "            (      'Combined total',                 'No.'),\n",
      "            (      'Combined total', 'Unnamed: 12_level_1'),\n",
      "            (      'Combined total', 'Unnamed: 13_level_1'),\n",
      "            (      'Combined total', 'Unnamed: 14_level_1'),\n",
      "            (      'Combined total', 'Unnamed: 15_level_1')],\n",
      "           )\n"
     ]
    }
   ],
   "source": [
    "#print column names\n",
    "print(df.columns)"
   ]
  }
 ],
 "metadata": {
  "kernelspec": {
   "display_name": "Python 3",
   "language": "python",
   "name": "python3"
  },
  "language_info": {
   "codemirror_mode": {
    "name": "ipython",
    "version": 3
   },
   "file_extension": ".py",
   "mimetype": "text/x-python",
   "name": "python",
   "nbconvert_exporter": "python",
   "pygments_lexer": "ipython3",
   "version": "3.12.5"
  }
 },
 "nbformat": 4,
 "nbformat_minor": 2
}
