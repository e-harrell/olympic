{
 "cells": [
  {
   "cell_type": "markdown",
   "metadata": {},
   "source": [
    "### Project examining All-Time Olympic Medal counts\n",
    "#### by Erika Harrell"
   ]
  },
  {
   "cell_type": "code",
   "execution_count": 158,
   "metadata": {},
   "outputs": [],
   "source": [
    "# importing Python libraries\n",
    "import requests \n",
    "import pandas as pd\n",
    "from bs4 import BeautifulSoup\n",
    "from io import StringIO\n",
    "#show all output in each cell\n",
    "from IPython.core.interactiveshell import InteractiveShell\n",
    "InteractiveShell.ast_node_interactivity = \"all\""
   ]
  },
  {
   "cell_type": "code",
   "execution_count": 159,
   "metadata": {},
   "outputs": [
    {
     "name": "stdout",
     "output_type": "stream",
     "text": [
      "[                                            Team Summer Olympic Games  \\\n",
      "                                 Team (IOC code)                  No.   \n",
      "0                              Afghanistan (AFG)                   16   \n",
      "1                                  Albania (ALB)                   10   \n",
      "2                                  Algeria (ALG)                   15   \n",
      "3                                Argentina (ARG)                   26   \n",
      "4                                  Armenia (ARM)                    8   \n",
      "..                                           ...                  ...   \n",
      "158       Individual Neutral Athletes (AIN)[AIN]                    1   \n",
      "159      Independent Olympic Athletes (IOA)[IOA]                    3   \n",
      "160  Independent Olympic Participants (IOP)[IOP]                    1   \n",
      "161                        Mixed team (ZZX)[ZZX]                    3   \n",
      "162                                       Totals                   30   \n",
      "\n",
      "                                                              \\\n",
      "    Unnamed: 2_level_1 Unnamed: 3_level_1 Unnamed: 4_level_1   \n",
      "0                    0                  0                  2   \n",
      "1                    0                  0                  2   \n",
      "2                    7                  4                  9   \n",
      "3                   22                 27                 31   \n",
      "4                    2                 11                  9   \n",
      "..                 ...                ...                ...   \n",
      "158                  1                  3                  1   \n",
      "159                  1                  0                  1   \n",
      "160                  0                  1                  2   \n",
      "161                 11                  6                  8   \n",
      "162               5789               5759               6277   \n",
      "\n",
      "                       Winter Olympic Games                     \\\n",
      "    Unnamed: 5_level_1                  No. Unnamed: 7_level_1   \n",
      "0                    2                    0                  0   \n",
      "1                    2                    5                  0   \n",
      "2                   20                    3                  0   \n",
      "3                   80                   20                  0   \n",
      "4                   22                    8                  0   \n",
      "..                 ...                  ...                ...   \n",
      "158                  1                    0                  0   \n",
      "159                  2                    0                  0   \n",
      "160                  3                    0                  0   \n",
      "161                 25                    0                  0   \n",
      "162              17825                   24               1171   \n",
      "\n",
      "                                                              Combined total  \\\n",
      "    Unnamed: 8_level_1 Unnamed: 9_level_1 Unnamed: 10_level_1            No.   \n",
      "0                    0                  0                   0             16   \n",
      "1                    0                  0                   0             15   \n",
      "2                    0                  0                   0             18   \n",
      "3                    0                  0                   0             46   \n",
      "4                    0                  0                   0             16   \n",
      "..                 ...                ...                 ...            ...   \n",
      "158                  0                  0                   0              1   \n",
      "159                  0                  0                   0              3   \n",
      "160                  0                  0                   0              1   \n",
      "161                  0                  0                   0              3   \n",
      "162               1169               1160                3500             54   \n",
      "\n",
      "                                                                 \\\n",
      "    Unnamed: 12_level_1 Unnamed: 13_level_1 Unnamed: 14_level_1   \n",
      "0                     0                   0                   2   \n",
      "1                     0                   0                   2   \n",
      "2                     7                   4                   9   \n",
      "3                    22                  27                  31   \n",
      "4                     2                  11                   9   \n",
      "..                  ...                 ...                 ...   \n",
      "158                   1                   3                   1   \n",
      "159                   1                   0                   1   \n",
      "160                   0                   1                   2   \n",
      "161                  11                   6                   8   \n",
      "162                6960                6928                7437   \n",
      "\n",
      "                         \n",
      "    Unnamed: 15_level_1  \n",
      "0                     2  \n",
      "1                     2  \n",
      "2                    20  \n",
      "3                    80  \n",
      "4                    22  \n",
      "..                  ...  \n",
      "158                   5  \n",
      "159                   2  \n",
      "160                   3  \n",
      "161                  25  \n",
      "162               21325  \n",
      "\n",
      "[163 rows x 16 columns]]\n"
     ]
    }
   ],
   "source": [
    "#scraping table from Wikipedia page\n",
    "url = \"https://en.wikipedia.org/wiki/All-time_Olympic_Games_medal_table\"\n",
    "#sending url to requests to create HTML object\n",
    "response = requests.get(url)\n",
    "#using Beautiful Soup's HTML parser to parse content in HTML object\n",
    "soup = BeautifulSoup(response.content, \"html.parser\")\n",
    "#finding all objects in URL with table label\n",
    "tables = soup.find_all(\"table\")\n",
    "# getting the second element of tables wihch is the first table on the Wikipedia page\n",
    "df1 = pd.read_html(StringIO(str(tables[1])))\n",
    "# printing element\n",
    "print(df1)"
   ]
  },
  {
   "cell_type": "code",
   "execution_count": 160,
   "metadata": {},
   "outputs": [
    {
     "data": {
      "text/plain": [
       "list"
      ]
     },
     "execution_count": 160,
     "metadata": {},
     "output_type": "execute_result"
    },
    {
     "data": {
      "text/plain": [
       "1"
      ]
     },
     "execution_count": 160,
     "metadata": {},
     "output_type": "execute_result"
    },
    {
     "data": {
      "text/plain": [
       "pandas.core.frame.DataFrame"
      ]
     },
     "execution_count": 160,
     "metadata": {},
     "output_type": "execute_result"
    }
   ],
   "source": [
    "#get information about df1\n",
    "type(df1)\n",
    "len(df1)\n",
    "type(df1[0])"
   ]
  },
  {
   "cell_type": "code",
   "execution_count": 161,
   "metadata": {},
   "outputs": [
    {
     "data": {
      "text/plain": [
       "pandas.core.frame.DataFrame"
      ]
     },
     "execution_count": 161,
     "metadata": {},
     "output_type": "execute_result"
    }
   ],
   "source": [
    "#get dataframe out of list\n",
    "df = df1[0]\n",
    "type(df)"
   ]
  },
  {
   "cell_type": "code",
   "execution_count": 162,
   "metadata": {},
   "outputs": [
    {
     "name": "stdout",
     "output_type": "stream",
     "text": [
      "<class 'pandas.core.frame.DataFrame'>\n",
      "RangeIndex: 163 entries, 0 to 162\n",
      "Data columns (total 16 columns):\n",
      " #   Column                                       Non-Null Count  Dtype \n",
      "---  ------                                       --------------  ----- \n",
      " 0   (Team, Team (IOC code))                      163 non-null    object\n",
      " 1   (Summer Olympic Games, No.)                  163 non-null    int64 \n",
      " 2   (Summer Olympic Games, Unnamed: 2_level_1)   163 non-null    int64 \n",
      " 3   (Summer Olympic Games, Unnamed: 3_level_1)   163 non-null    int64 \n",
      " 4   (Summer Olympic Games, Unnamed: 4_level_1)   163 non-null    int64 \n",
      " 5   (Summer Olympic Games, Unnamed: 5_level_1)   163 non-null    int64 \n",
      " 6   (Winter Olympic Games, No.)                  163 non-null    int64 \n",
      " 7   (Winter Olympic Games, Unnamed: 7_level_1)   163 non-null    int64 \n",
      " 8   (Winter Olympic Games, Unnamed: 8_level_1)   163 non-null    int64 \n",
      " 9   (Winter Olympic Games, Unnamed: 9_level_1)   163 non-null    int64 \n",
      " 10  (Winter Olympic Games, Unnamed: 10_level_1)  163 non-null    int64 \n",
      " 11  (Combined total, No.)                        163 non-null    int64 \n",
      " 12  (Combined total, Unnamed: 12_level_1)        163 non-null    int64 \n",
      " 13  (Combined total, Unnamed: 13_level_1)        163 non-null    int64 \n",
      " 14  (Combined total, Unnamed: 14_level_1)        163 non-null    int64 \n",
      " 15  (Combined total, Unnamed: 15_level_1)        163 non-null    int64 \n",
      "dtypes: int64(15), object(1)\n",
      "memory usage: 20.5+ KB\n"
     ]
    }
   ],
   "source": [
    "# get information about dataframe\n",
    "df.info()"
   ]
  },
  {
   "cell_type": "code",
   "execution_count": 163,
   "metadata": {},
   "outputs": [
    {
     "name": "stdout",
     "output_type": "stream",
     "text": [
      "                                            Team Summer Olympic Games  \\\n",
      "                                 Team (IOC code)                  No.   \n",
      "0                              Afghanistan (AFG)                   16   \n",
      "1                                  Albania (ALB)                   10   \n",
      "2                                  Algeria (ALG)                   15   \n",
      "3                                Argentina (ARG)                   26   \n",
      "4                                  Armenia (ARM)                    8   \n",
      "..                                           ...                  ...   \n",
      "157                          Zimbabwe (ZIM)[ZIM]                   15   \n",
      "158       Individual Neutral Athletes (AIN)[AIN]                    1   \n",
      "159      Independent Olympic Athletes (IOA)[IOA]                    3   \n",
      "160  Independent Olympic Participants (IOP)[IOP]                    1   \n",
      "161                        Mixed team (ZZX)[ZZX]                    3   \n",
      "\n",
      "                                                              \\\n",
      "    Unnamed: 2_level_1 Unnamed: 3_level_1 Unnamed: 4_level_1   \n",
      "0                    0                  0                  2   \n",
      "1                    0                  0                  2   \n",
      "2                    7                  4                  9   \n",
      "3                   22                 27                 31   \n",
      "4                    2                 11                  9   \n",
      "..                 ...                ...                ...   \n",
      "157                  3                  4                  1   \n",
      "158                  1                  3                  1   \n",
      "159                  1                  0                  1   \n",
      "160                  0                  1                  2   \n",
      "161                 11                  6                  8   \n",
      "\n",
      "                       Winter Olympic Games                     \\\n",
      "    Unnamed: 5_level_1                  No. Unnamed: 7_level_1   \n",
      "0                    2                    0                  0   \n",
      "1                    2                    5                  0   \n",
      "2                   20                    3                  0   \n",
      "3                   80                   20                  0   \n",
      "4                   22                    8                  0   \n",
      "..                 ...                  ...                ...   \n",
      "157                  8                    1                  0   \n",
      "158                  1                    0                  0   \n",
      "159                  2                    0                  0   \n",
      "160                  3                    0                  0   \n",
      "161                 25                    0                  0   \n",
      "\n",
      "                                                              Combined total  \\\n",
      "    Unnamed: 8_level_1 Unnamed: 9_level_1 Unnamed: 10_level_1            No.   \n",
      "0                    0                  0                   0             16   \n",
      "1                    0                  0                   0             15   \n",
      "2                    0                  0                   0             18   \n",
      "3                    0                  0                   0             46   \n",
      "4                    0                  0                   0             16   \n",
      "..                 ...                ...                 ...            ...   \n",
      "157                  0                  0                   0             16   \n",
      "158                  0                  0                   0              1   \n",
      "159                  0                  0                   0              3   \n",
      "160                  0                  0                   0              1   \n",
      "161                  0                  0                   0              3   \n",
      "\n",
      "                                                                 \\\n",
      "    Unnamed: 12_level_1 Unnamed: 13_level_1 Unnamed: 14_level_1   \n",
      "0                     0                   0                   2   \n",
      "1                     0                   0                   2   \n",
      "2                     7                   4                   9   \n",
      "3                    22                  27                  31   \n",
      "4                     2                  11                   9   \n",
      "..                  ...                 ...                 ...   \n",
      "157                   3                   4                   1   \n",
      "158                   1                   3                   1   \n",
      "159                   1                   0                   1   \n",
      "160                   0                   1                   2   \n",
      "161                  11                   6                   8   \n",
      "\n",
      "                         \n",
      "    Unnamed: 15_level_1  \n",
      "0                     2  \n",
      "1                     2  \n",
      "2                    20  \n",
      "3                    80  \n",
      "4                    22  \n",
      "..                  ...  \n",
      "157                   8  \n",
      "158                   5  \n",
      "159                   2  \n",
      "160                   3  \n",
      "161                  25  \n",
      "\n",
      "[162 rows x 16 columns]\n"
     ]
    }
   ],
   "source": [
    "# dropping the last row of the dataframe\n",
    "df =df.iloc[:-1]\n",
    "print(df)"
   ]
  },
  {
   "cell_type": "code",
   "execution_count": 164,
   "metadata": {},
   "outputs": [
    {
     "data": {
      "text/plain": [
       "MultiIndex([(                'Team',     'Team (IOC code)'),\n",
       "            ('Summer Olympic Games',                 'No.'),\n",
       "            ('Summer Olympic Games',  'Unnamed: 2_level_1'),\n",
       "            ('Summer Olympic Games',  'Unnamed: 3_level_1'),\n",
       "            ('Summer Olympic Games',  'Unnamed: 4_level_1'),\n",
       "            ('Summer Olympic Games',  'Unnamed: 5_level_1'),\n",
       "            ('Winter Olympic Games',                 'No.'),\n",
       "            ('Winter Olympic Games',  'Unnamed: 7_level_1'),\n",
       "            ('Winter Olympic Games',  'Unnamed: 8_level_1'),\n",
       "            ('Winter Olympic Games',  'Unnamed: 9_level_1'),\n",
       "            ('Winter Olympic Games', 'Unnamed: 10_level_1'),\n",
       "            (      'Combined total',                 'No.'),\n",
       "            (      'Combined total', 'Unnamed: 12_level_1'),\n",
       "            (      'Combined total', 'Unnamed: 13_level_1'),\n",
       "            (      'Combined total', 'Unnamed: 14_level_1'),\n",
       "            (      'Combined total', 'Unnamed: 15_level_1')],\n",
       "           )"
      ]
     },
     "execution_count": 164,
     "metadata": {},
     "output_type": "execute_result"
    }
   ],
   "source": [
    "# get column names\n",
    "df.columns"
   ]
  },
  {
   "cell_type": "code",
   "execution_count": 165,
   "metadata": {},
   "outputs": [
    {
     "data": {
      "text/html": [
       "<div>\n",
       "<style scoped>\n",
       "    .dataframe tbody tr th:only-of-type {\n",
       "        vertical-align: middle;\n",
       "    }\n",
       "\n",
       "    .dataframe tbody tr th {\n",
       "        vertical-align: top;\n",
       "    }\n",
       "\n",
       "    .dataframe thead tr th {\n",
       "        text-align: left;\n",
       "    }\n",
       "</style>\n",
       "<table border=\"1\" class=\"dataframe\">\n",
       "  <thead>\n",
       "    <tr>\n",
       "      <th></th>\n",
       "      <th>Team</th>\n",
       "      <th colspan=\"5\" halign=\"left\">Summer Olympic Games</th>\n",
       "      <th colspan=\"5\" halign=\"left\">Winter Olympic Games</th>\n",
       "      <th colspan=\"5\" halign=\"left\">Combined total</th>\n",
       "    </tr>\n",
       "    <tr>\n",
       "      <th></th>\n",
       "      <th>Team (IOC code)</th>\n",
       "      <th>No.</th>\n",
       "      <th>Unnamed: 2_level_1</th>\n",
       "      <th>Unnamed: 3_level_1</th>\n",
       "      <th>Unnamed: 4_level_1</th>\n",
       "      <th>Unnamed: 5_level_1</th>\n",
       "      <th>No.</th>\n",
       "      <th>Unnamed: 7_level_1</th>\n",
       "      <th>Unnamed: 8_level_1</th>\n",
       "      <th>Unnamed: 9_level_1</th>\n",
       "      <th>Unnamed: 10_level_1</th>\n",
       "      <th>No.</th>\n",
       "      <th>Unnamed: 12_level_1</th>\n",
       "      <th>Unnamed: 13_level_1</th>\n",
       "      <th>Unnamed: 14_level_1</th>\n",
       "      <th>Unnamed: 15_level_1</th>\n",
       "    </tr>\n",
       "  </thead>\n",
       "  <tbody>\n",
       "    <tr>\n",
       "      <th>0</th>\n",
       "      <td>Afghanistan (AFG)</td>\n",
       "      <td>16</td>\n",
       "      <td>0</td>\n",
       "      <td>0</td>\n",
       "      <td>2</td>\n",
       "      <td>2</td>\n",
       "      <td>0</td>\n",
       "      <td>0</td>\n",
       "      <td>0</td>\n",
       "      <td>0</td>\n",
       "      <td>0</td>\n",
       "      <td>16</td>\n",
       "      <td>0</td>\n",
       "      <td>0</td>\n",
       "      <td>2</td>\n",
       "      <td>2</td>\n",
       "    </tr>\n",
       "  </tbody>\n",
       "</table>\n",
       "</div>"
      ],
      "text/plain": [
       "                Team Summer Olympic Games                     \\\n",
       "     Team (IOC code)                  No. Unnamed: 2_level_1   \n",
       "0  Afghanistan (AFG)                   16                  0   \n",
       "\n",
       "                                                            \\\n",
       "  Unnamed: 3_level_1 Unnamed: 4_level_1 Unnamed: 5_level_1   \n",
       "0                  0                  2                  2   \n",
       "\n",
       "  Winter Olympic Games                                        \\\n",
       "                   No. Unnamed: 7_level_1 Unnamed: 8_level_1   \n",
       "0                    0                  0                  0   \n",
       "\n",
       "                                         Combined total                      \\\n",
       "  Unnamed: 9_level_1 Unnamed: 10_level_1            No. Unnamed: 12_level_1   \n",
       "0                  0                   0             16                   0   \n",
       "\n",
       "                                                               \n",
       "  Unnamed: 13_level_1 Unnamed: 14_level_1 Unnamed: 15_level_1  \n",
       "0                   0                   2                   2  "
      ]
     },
     "execution_count": 165,
     "metadata": {},
     "output_type": "execute_result"
    },
    {
     "data": {
      "text/plain": [
       "('Team', 'Team (IOC code)')"
      ]
     },
     "execution_count": 165,
     "metadata": {},
     "output_type": "execute_result"
    },
    {
     "name": "stdout",
     "output_type": "stream",
     "text": [
      "<class 'pandas.core.frame.DataFrame'>\n",
      "<class 'pandas.core.frame.DataFrame'>\n",
      "<class 'pandas.core.frame.DataFrame'>\n",
      "<class 'pandas.core.frame.DataFrame'>\n"
     ]
    }
   ],
   "source": [
    "#examining columns\n",
    "df.head(1)\n",
    "df.columns[0]\n",
    "#getting type of upper level columns\n",
    "print(type(df['Team']))\n",
    "print(type(df['Summer Olympic Games']))\n",
    "print(type(df['Winter Olympic Games']))\n",
    "print(type(df['Combined total']))\n"
   ]
  },
  {
   "cell_type": "code",
   "execution_count": 166,
   "metadata": {},
   "outputs": [
    {
     "data": {
      "text/plain": [
       "pandas.core.frame.DataFrame"
      ]
     },
     "execution_count": 166,
     "metadata": {},
     "output_type": "execute_result"
    },
    {
     "data": {
      "text/plain": [
       "'Team (IOC code)'"
      ]
     },
     "execution_count": 166,
     "metadata": {},
     "output_type": "execute_result"
    },
    {
     "data": {
      "text/plain": [
       "(162, 1)"
      ]
     },
     "execution_count": 166,
     "metadata": {},
     "output_type": "execute_result"
    },
    {
     "data": {
      "text/html": [
       "<div>\n",
       "<style scoped>\n",
       "    .dataframe tbody tr th:only-of-type {\n",
       "        vertical-align: middle;\n",
       "    }\n",
       "\n",
       "    .dataframe tbody tr th {\n",
       "        vertical-align: top;\n",
       "    }\n",
       "\n",
       "    .dataframe thead th {\n",
       "        text-align: right;\n",
       "    }\n",
       "</style>\n",
       "<table border=\"1\" class=\"dataframe\">\n",
       "  <thead>\n",
       "    <tr style=\"text-align: right;\">\n",
       "      <th></th>\n",
       "      <th>Team (IOC code)</th>\n",
       "    </tr>\n",
       "  </thead>\n",
       "  <tbody>\n",
       "    <tr>\n",
       "      <th>0</th>\n",
       "      <td>Afghanistan (AFG)</td>\n",
       "    </tr>\n",
       "    <tr>\n",
       "      <th>1</th>\n",
       "      <td>Albania (ALB)</td>\n",
       "    </tr>\n",
       "    <tr>\n",
       "      <th>2</th>\n",
       "      <td>Algeria (ALG)</td>\n",
       "    </tr>\n",
       "    <tr>\n",
       "      <th>3</th>\n",
       "      <td>Argentina (ARG)</td>\n",
       "    </tr>\n",
       "    <tr>\n",
       "      <th>4</th>\n",
       "      <td>Armenia (ARM)</td>\n",
       "    </tr>\n",
       "  </tbody>\n",
       "</table>\n",
       "</div>"
      ],
      "text/plain": [
       "     Team (IOC code)\n",
       "0  Afghanistan (AFG)\n",
       "1      Albania (ALB)\n",
       "2      Algeria (ALG)\n",
       "3    Argentina (ARG)\n",
       "4      Armenia (ARM)"
      ]
     },
     "execution_count": 166,
     "metadata": {},
     "output_type": "execute_result"
    },
    {
     "data": {
      "text/plain": [
       "pandas.core.frame.DataFrame"
      ]
     },
     "execution_count": 166,
     "metadata": {},
     "output_type": "execute_result"
    },
    {
     "data": {
      "text/plain": [
       "pandas.core.frame.DataFrame"
      ]
     },
     "execution_count": 166,
     "metadata": {},
     "output_type": "execute_result"
    },
    {
     "data": {
      "text/html": [
       "<div>\n",
       "<style scoped>\n",
       "    .dataframe tbody tr th:only-of-type {\n",
       "        vertical-align: middle;\n",
       "    }\n",
       "\n",
       "    .dataframe tbody tr th {\n",
       "        vertical-align: top;\n",
       "    }\n",
       "\n",
       "    .dataframe thead th {\n",
       "        text-align: right;\n",
       "    }\n",
       "</style>\n",
       "<table border=\"1\" class=\"dataframe\">\n",
       "  <thead>\n",
       "    <tr style=\"text-align: right;\">\n",
       "      <th></th>\n",
       "      <th>Team (IOC code)</th>\n",
       "      <th>0</th>\n",
       "      <th>1</th>\n",
       "    </tr>\n",
       "  </thead>\n",
       "  <tbody>\n",
       "    <tr>\n",
       "      <th>0</th>\n",
       "      <td>Afghanistan (AFG)</td>\n",
       "      <td>Afghanistan</td>\n",
       "      <td>AFG)</td>\n",
       "    </tr>\n",
       "    <tr>\n",
       "      <th>1</th>\n",
       "      <td>Albania (ALB)</td>\n",
       "      <td>Albania</td>\n",
       "      <td>ALB)</td>\n",
       "    </tr>\n",
       "    <tr>\n",
       "      <th>2</th>\n",
       "      <td>Algeria (ALG)</td>\n",
       "      <td>Algeria</td>\n",
       "      <td>ALG)</td>\n",
       "    </tr>\n",
       "    <tr>\n",
       "      <th>3</th>\n",
       "      <td>Argentina (ARG)</td>\n",
       "      <td>Argentina</td>\n",
       "      <td>ARG)</td>\n",
       "    </tr>\n",
       "    <tr>\n",
       "      <th>4</th>\n",
       "      <td>Armenia (ARM)</td>\n",
       "      <td>Armenia</td>\n",
       "      <td>ARM)</td>\n",
       "    </tr>\n",
       "  </tbody>\n",
       "</table>\n",
       "</div>"
      ],
      "text/plain": [
       "     Team (IOC code)             0     1\n",
       "0  Afghanistan (AFG)  Afghanistan   AFG)\n",
       "1      Albania (ALB)      Albania   ALB)\n",
       "2      Algeria (ALG)      Algeria   ALG)\n",
       "3    Argentina (ARG)    Argentina   ARG)\n",
       "4      Armenia (ARM)      Armenia   ARM)"
      ]
     },
     "execution_count": 166,
     "metadata": {},
     "output_type": "execute_result"
    },
    {
     "data": {
      "text/plain": [
       "Index(['Team (IOC code)', 0, 1], dtype='object')"
      ]
     },
     "execution_count": 166,
     "metadata": {},
     "output_type": "execute_result"
    },
    {
     "data": {
      "text/plain": [
       "Index(['Team (IOC code)', 'Team', 'IOCcode'], dtype='object')"
      ]
     },
     "execution_count": 166,
     "metadata": {},
     "output_type": "execute_result"
    },
    {
     "data": {
      "text/plain": [
       "0    AFG\n",
       "1    ALB\n",
       "2    ALG\n",
       "3    ARG\n",
       "4    ARM\n",
       "Name: IOCcode, dtype: object"
      ]
     },
     "execution_count": 166,
     "metadata": {},
     "output_type": "execute_result"
    }
   ],
   "source": [
    "#creating new dataframe from nested dataframes in df\n",
    "#working with Teams data frame\n",
    "df1 = df['Team']\n",
    "type(df1)\n",
    "df1.columns[0]\n",
    "df1.shape\n",
    "df1.head()\n",
    "#creating separate Team variable\n",
    "v1=df1['Team (IOC code)'].str.split(\"(\", expand=True)[0].to_frame()\n",
    "type(v1)\n",
    "#creating separate IOC code variable\n",
    "v2=df1['Team (IOC code)'].str.split(\"(\", expand=True)[1].to_frame()\n",
    "type(v2)\n",
    "#adding Team and IOC code variables to df1\n",
    "df1=pd.concat([df1,v1, v2], axis=1)\n",
    "df1.head()\n",
    "#add column names to columns\n",
    "df1.columns\n",
    "df1.rename(columns={0 : 'Team', 1 : 'IOCcode'}, inplace = True)\n",
    "df1.columns\n",
    "#drop ) from IOC code column\n",
    "df1['IOCcode'] = df1['IOCcode'].str.replace(')', '')\n",
    "df1['IOCcode'].head()"
   ]
  },
  {
   "cell_type": "code",
   "execution_count": 167,
   "metadata": {},
   "outputs": [
    {
     "data": {
      "text/plain": [
       "pandas.core.frame.DataFrame"
      ]
     },
     "execution_count": 167,
     "metadata": {},
     "output_type": "execute_result"
    },
    {
     "data": {
      "text/plain": [
       "Index(['No.', 'Unnamed: 2_level_1', 'Unnamed: 3_level_1', 'Unnamed: 4_level_1',\n",
       "       'Unnamed: 5_level_1'],\n",
       "      dtype='object')"
      ]
     },
     "execution_count": 167,
     "metadata": {},
     "output_type": "execute_result"
    },
    {
     "data": {
      "text/plain": [
       "(162, 5)"
      ]
     },
     "execution_count": 167,
     "metadata": {},
     "output_type": "execute_result"
    },
    {
     "data": {
      "text/html": [
       "<div>\n",
       "<style scoped>\n",
       "    .dataframe tbody tr th:only-of-type {\n",
       "        vertical-align: middle;\n",
       "    }\n",
       "\n",
       "    .dataframe tbody tr th {\n",
       "        vertical-align: top;\n",
       "    }\n",
       "\n",
       "    .dataframe thead th {\n",
       "        text-align: right;\n",
       "    }\n",
       "</style>\n",
       "<table border=\"1\" class=\"dataframe\">\n",
       "  <thead>\n",
       "    <tr style=\"text-align: right;\">\n",
       "      <th></th>\n",
       "      <th>No.</th>\n",
       "      <th>Unnamed: 2_level_1</th>\n",
       "      <th>Unnamed: 3_level_1</th>\n",
       "      <th>Unnamed: 4_level_1</th>\n",
       "      <th>Unnamed: 5_level_1</th>\n",
       "    </tr>\n",
       "  </thead>\n",
       "  <tbody>\n",
       "    <tr>\n",
       "      <th>0</th>\n",
       "      <td>16</td>\n",
       "      <td>0</td>\n",
       "      <td>0</td>\n",
       "      <td>2</td>\n",
       "      <td>2</td>\n",
       "    </tr>\n",
       "    <tr>\n",
       "      <th>1</th>\n",
       "      <td>10</td>\n",
       "      <td>0</td>\n",
       "      <td>0</td>\n",
       "      <td>2</td>\n",
       "      <td>2</td>\n",
       "    </tr>\n",
       "    <tr>\n",
       "      <th>2</th>\n",
       "      <td>15</td>\n",
       "      <td>7</td>\n",
       "      <td>4</td>\n",
       "      <td>9</td>\n",
       "      <td>20</td>\n",
       "    </tr>\n",
       "    <tr>\n",
       "      <th>3</th>\n",
       "      <td>26</td>\n",
       "      <td>22</td>\n",
       "      <td>27</td>\n",
       "      <td>31</td>\n",
       "      <td>80</td>\n",
       "    </tr>\n",
       "    <tr>\n",
       "      <th>4</th>\n",
       "      <td>8</td>\n",
       "      <td>2</td>\n",
       "      <td>11</td>\n",
       "      <td>9</td>\n",
       "      <td>22</td>\n",
       "    </tr>\n",
       "  </tbody>\n",
       "</table>\n",
       "</div>"
      ],
      "text/plain": [
       "   No.  Unnamed: 2_level_1  Unnamed: 3_level_1  Unnamed: 4_level_1  \\\n",
       "0   16                   0                   0                   2   \n",
       "1   10                   0                   0                   2   \n",
       "2   15                   7                   4                   9   \n",
       "3   26                  22                  27                  31   \n",
       "4    8                   2                  11                   9   \n",
       "\n",
       "   Unnamed: 5_level_1  \n",
       "0                   2  \n",
       "1                   2  \n",
       "2                  20  \n",
       "3                  80  \n",
       "4                  22  "
      ]
     },
     "execution_count": 167,
     "metadata": {},
     "output_type": "execute_result"
    },
    {
     "data": {
      "text/plain": [
       "Index(['Team (IOC code)', 'Team', 'IOCcode', 'Games_summer', 'Gold_summer',\n",
       "       'Silver_summer', 'Bronze_summer', 'Total_summer'],\n",
       "      dtype='object')"
      ]
     },
     "execution_count": 167,
     "metadata": {},
     "output_type": "execute_result"
    }
   ],
   "source": [
    "#working on Summer columns\n",
    "Summer = df['Summer Olympic Games']\n",
    "type(Summer)\n",
    "Summer.columns\n",
    "Summer.shape\n",
    "Summer.head()\n",
    "#add Summer to df1\n",
    "df1 = pd.concat([df1,Summer], axis=1)\n",
    "#rename columns in Summer\n",
    "df1.rename(columns={'No.' : 'Games_summer', \n",
    "                       'Unnamed: 2_level_1' : 'Gold_summer',\n",
    "                         'Unnamed: 3_level_1' : 'Silver_summer', \n",
    "                         'Unnamed: 4_level_1':'Bronze_summer',\n",
    "       'Unnamed: 5_level_1':'Total_summer'}, inplace = True)\n",
    "#check columns\n",
    "df1.columns"
   ]
  },
  {
   "cell_type": "code",
   "execution_count": 168,
   "metadata": {},
   "outputs": [
    {
     "data": {
      "text/plain": [
       "pandas.core.frame.DataFrame"
      ]
     },
     "execution_count": 168,
     "metadata": {},
     "output_type": "execute_result"
    },
    {
     "data": {
      "text/plain": [
       "Index(['No.', 'Unnamed: 7_level_1', 'Unnamed: 8_level_1', 'Unnamed: 9_level_1',\n",
       "       'Unnamed: 10_level_1'],\n",
       "      dtype='object')"
      ]
     },
     "execution_count": 168,
     "metadata": {},
     "output_type": "execute_result"
    },
    {
     "data": {
      "text/plain": [
       "(162, 5)"
      ]
     },
     "execution_count": 168,
     "metadata": {},
     "output_type": "execute_result"
    },
    {
     "data": {
      "text/html": [
       "<div>\n",
       "<style scoped>\n",
       "    .dataframe tbody tr th:only-of-type {\n",
       "        vertical-align: middle;\n",
       "    }\n",
       "\n",
       "    .dataframe tbody tr th {\n",
       "        vertical-align: top;\n",
       "    }\n",
       "\n",
       "    .dataframe thead th {\n",
       "        text-align: right;\n",
       "    }\n",
       "</style>\n",
       "<table border=\"1\" class=\"dataframe\">\n",
       "  <thead>\n",
       "    <tr style=\"text-align: right;\">\n",
       "      <th></th>\n",
       "      <th>No.</th>\n",
       "      <th>Unnamed: 7_level_1</th>\n",
       "      <th>Unnamed: 8_level_1</th>\n",
       "      <th>Unnamed: 9_level_1</th>\n",
       "      <th>Unnamed: 10_level_1</th>\n",
       "    </tr>\n",
       "  </thead>\n",
       "  <tbody>\n",
       "    <tr>\n",
       "      <th>0</th>\n",
       "      <td>0</td>\n",
       "      <td>0</td>\n",
       "      <td>0</td>\n",
       "      <td>0</td>\n",
       "      <td>0</td>\n",
       "    </tr>\n",
       "    <tr>\n",
       "      <th>1</th>\n",
       "      <td>5</td>\n",
       "      <td>0</td>\n",
       "      <td>0</td>\n",
       "      <td>0</td>\n",
       "      <td>0</td>\n",
       "    </tr>\n",
       "    <tr>\n",
       "      <th>2</th>\n",
       "      <td>3</td>\n",
       "      <td>0</td>\n",
       "      <td>0</td>\n",
       "      <td>0</td>\n",
       "      <td>0</td>\n",
       "    </tr>\n",
       "    <tr>\n",
       "      <th>3</th>\n",
       "      <td>20</td>\n",
       "      <td>0</td>\n",
       "      <td>0</td>\n",
       "      <td>0</td>\n",
       "      <td>0</td>\n",
       "    </tr>\n",
       "    <tr>\n",
       "      <th>4</th>\n",
       "      <td>8</td>\n",
       "      <td>0</td>\n",
       "      <td>0</td>\n",
       "      <td>0</td>\n",
       "      <td>0</td>\n",
       "    </tr>\n",
       "  </tbody>\n",
       "</table>\n",
       "</div>"
      ],
      "text/plain": [
       "   No.  Unnamed: 7_level_1  Unnamed: 8_level_1  Unnamed: 9_level_1  \\\n",
       "0    0                   0                   0                   0   \n",
       "1    5                   0                   0                   0   \n",
       "2    3                   0                   0                   0   \n",
       "3   20                   0                   0                   0   \n",
       "4    8                   0                   0                   0   \n",
       "\n",
       "   Unnamed: 10_level_1  \n",
       "0                    0  \n",
       "1                    0  \n",
       "2                    0  \n",
       "3                    0  \n",
       "4                    0  "
      ]
     },
     "execution_count": 168,
     "metadata": {},
     "output_type": "execute_result"
    },
    {
     "data": {
      "text/plain": [
       "Index(['Team (IOC code)', 'Team', 'IOCcode', 'Games_summer', 'Gold_summer',\n",
       "       'Silver_summer', 'Bronze_summer', 'Total_summer', 'Games_winter',\n",
       "       'Gold_winter', 'Silver_winter', 'Bronze_winter', 'Total_winter'],\n",
       "      dtype='object')"
      ]
     },
     "execution_count": 168,
     "metadata": {},
     "output_type": "execute_result"
    }
   ],
   "source": [
    "#working on Winter columns\n",
    "Winter = df['Winter Olympic Games']\n",
    "type(Winter)\n",
    "Winter.columns\n",
    "Winter.shape\n",
    "Winter.head()\n",
    "#add Winter to df1\n",
    "df1 = pd.concat([df1,Winter], axis=1)\n",
    "#rename columns in Winter\n",
    "df1.rename(columns={'No.' : 'Games_winter', \n",
    "                       'Unnamed: 7_level_1' : 'Gold_winter',\n",
    "                         'Unnamed: 8_level_1' : 'Silver_winter', \n",
    "                         'Unnamed: 9_level_1':'Bronze_winter',\n",
    "       'Unnamed: 10_level_1':'Total_winter'}, inplace = True)\n",
    "#check columns\n",
    "df1.columns"
   ]
  },
  {
   "cell_type": "code",
   "execution_count": 169,
   "metadata": {},
   "outputs": [
    {
     "data": {
      "text/plain": [
       "pandas.core.frame.DataFrame"
      ]
     },
     "execution_count": 169,
     "metadata": {},
     "output_type": "execute_result"
    },
    {
     "data": {
      "text/plain": [
       "Index(['No.', 'Unnamed: 12_level_1', 'Unnamed: 13_level_1',\n",
       "       'Unnamed: 14_level_1', 'Unnamed: 15_level_1'],\n",
       "      dtype='object')"
      ]
     },
     "execution_count": 169,
     "metadata": {},
     "output_type": "execute_result"
    },
    {
     "data": {
      "text/plain": [
       "(162, 5)"
      ]
     },
     "execution_count": 169,
     "metadata": {},
     "output_type": "execute_result"
    },
    {
     "data": {
      "text/html": [
       "<div>\n",
       "<style scoped>\n",
       "    .dataframe tbody tr th:only-of-type {\n",
       "        vertical-align: middle;\n",
       "    }\n",
       "\n",
       "    .dataframe tbody tr th {\n",
       "        vertical-align: top;\n",
       "    }\n",
       "\n",
       "    .dataframe thead th {\n",
       "        text-align: right;\n",
       "    }\n",
       "</style>\n",
       "<table border=\"1\" class=\"dataframe\">\n",
       "  <thead>\n",
       "    <tr style=\"text-align: right;\">\n",
       "      <th></th>\n",
       "      <th>No.</th>\n",
       "      <th>Unnamed: 12_level_1</th>\n",
       "      <th>Unnamed: 13_level_1</th>\n",
       "      <th>Unnamed: 14_level_1</th>\n",
       "      <th>Unnamed: 15_level_1</th>\n",
       "    </tr>\n",
       "  </thead>\n",
       "  <tbody>\n",
       "    <tr>\n",
       "      <th>0</th>\n",
       "      <td>16</td>\n",
       "      <td>0</td>\n",
       "      <td>0</td>\n",
       "      <td>2</td>\n",
       "      <td>2</td>\n",
       "    </tr>\n",
       "    <tr>\n",
       "      <th>1</th>\n",
       "      <td>15</td>\n",
       "      <td>0</td>\n",
       "      <td>0</td>\n",
       "      <td>2</td>\n",
       "      <td>2</td>\n",
       "    </tr>\n",
       "    <tr>\n",
       "      <th>2</th>\n",
       "      <td>18</td>\n",
       "      <td>7</td>\n",
       "      <td>4</td>\n",
       "      <td>9</td>\n",
       "      <td>20</td>\n",
       "    </tr>\n",
       "    <tr>\n",
       "      <th>3</th>\n",
       "      <td>46</td>\n",
       "      <td>22</td>\n",
       "      <td>27</td>\n",
       "      <td>31</td>\n",
       "      <td>80</td>\n",
       "    </tr>\n",
       "    <tr>\n",
       "      <th>4</th>\n",
       "      <td>16</td>\n",
       "      <td>2</td>\n",
       "      <td>11</td>\n",
       "      <td>9</td>\n",
       "      <td>22</td>\n",
       "    </tr>\n",
       "  </tbody>\n",
       "</table>\n",
       "</div>"
      ],
      "text/plain": [
       "   No.  Unnamed: 12_level_1  Unnamed: 13_level_1  Unnamed: 14_level_1  \\\n",
       "0   16                    0                    0                    2   \n",
       "1   15                    0                    0                    2   \n",
       "2   18                    7                    4                    9   \n",
       "3   46                   22                   27                   31   \n",
       "4   16                    2                   11                    9   \n",
       "\n",
       "   Unnamed: 15_level_1  \n",
       "0                    2  \n",
       "1                    2  \n",
       "2                   20  \n",
       "3                   80  \n",
       "4                   22  "
      ]
     },
     "execution_count": 169,
     "metadata": {},
     "output_type": "execute_result"
    },
    {
     "data": {
      "text/plain": [
       "Index(['Team (IOC code)', 'Team', 'IOCcode', 'Games_summer', 'Gold_summer',\n",
       "       'Silver_summer', 'Bronze_summer', 'Total_summer', 'Games_winter',\n",
       "       'Gold_winter', 'Silver_winter', 'Bronze_winter', 'Total_winter',\n",
       "       'Games_total', 'Gold_total', 'Silver_total', 'Bronze_total',\n",
       "       'Totalmedals'],\n",
       "      dtype='object')"
      ]
     },
     "execution_count": 169,
     "metadata": {},
     "output_type": "execute_result"
    }
   ],
   "source": [
    "#working on Combined total columns\n",
    "Combo = df['Combined total']\n",
    "type(Combo)\n",
    "Combo.columns\n",
    "Combo.shape\n",
    "Combo.head()\n",
    "#add Winter to df1\n",
    "df1 = pd.concat([df1,Combo], axis=1)\n",
    "#rename columns in Winter\n",
    "df1.rename(columns={'No.' : 'Games_total', \n",
    "                       'Unnamed: 12_level_1' : 'Gold_total',\n",
    "                         'Unnamed: 13_level_1' : 'Silver_total', \n",
    "                         'Unnamed: 14_level_1':'Bronze_total',\n",
    "       'Unnamed: 15_level_1':'Totalmedals'}, inplace = True)\n",
    "#check columns\n",
    "df1.columns"
   ]
  },
  {
   "cell_type": "code",
   "execution_count": 171,
   "metadata": {},
   "outputs": [
    {
     "name": "stdout",
     "output_type": "stream",
     "text": [
      "<class 'pandas.core.frame.DataFrame'>\n",
      "RangeIndex: 162 entries, 0 to 161\n",
      "Data columns (total 18 columns):\n",
      " #   Column           Non-Null Count  Dtype \n",
      "---  ------           --------------  ----- \n",
      " 0   Team (IOC code)  162 non-null    object\n",
      " 1   Team             162 non-null    object\n",
      " 2   IOCcode          162 non-null    object\n",
      " 3   Games_summer     162 non-null    int64 \n",
      " 4   Gold_summer      162 non-null    int64 \n",
      " 5   Silver_summer    162 non-null    int64 \n",
      " 6   Bronze_summer    162 non-null    int64 \n",
      " 7   Total_summer     162 non-null    int64 \n",
      " 8   Games_winter     162 non-null    int64 \n",
      " 9   Gold_winter      162 non-null    int64 \n",
      " 10  Silver_winter    162 non-null    int64 \n",
      " 11  Bronze_winter    162 non-null    int64 \n",
      " 12  Total_winter     162 non-null    int64 \n",
      " 13  Games_total      162 non-null    int64 \n",
      " 14  Gold_total       162 non-null    int64 \n",
      " 15  Silver_total     162 non-null    int64 \n",
      " 16  Bronze_total     162 non-null    int64 \n",
      " 17  Totalmedals      162 non-null    int64 \n",
      "dtypes: int64(15), object(3)\n",
      "memory usage: 22.9+ KB\n"
     ]
    },
    {
     "data": {
      "text/plain": [
       "(162, 18)"
      ]
     },
     "execution_count": 171,
     "metadata": {},
     "output_type": "execute_result"
    },
    {
     "data": {
      "text/html": [
       "<div>\n",
       "<style scoped>\n",
       "    .dataframe tbody tr th:only-of-type {\n",
       "        vertical-align: middle;\n",
       "    }\n",
       "\n",
       "    .dataframe tbody tr th {\n",
       "        vertical-align: top;\n",
       "    }\n",
       "\n",
       "    .dataframe thead th {\n",
       "        text-align: right;\n",
       "    }\n",
       "</style>\n",
       "<table border=\"1\" class=\"dataframe\">\n",
       "  <thead>\n",
       "    <tr style=\"text-align: right;\">\n",
       "      <th></th>\n",
       "      <th>Team (IOC code)</th>\n",
       "      <th>Team</th>\n",
       "      <th>IOCcode</th>\n",
       "      <th>Games_summer</th>\n",
       "      <th>Gold_summer</th>\n",
       "      <th>Silver_summer</th>\n",
       "      <th>Bronze_summer</th>\n",
       "      <th>Total_summer</th>\n",
       "      <th>Games_winter</th>\n",
       "      <th>Gold_winter</th>\n",
       "      <th>Silver_winter</th>\n",
       "      <th>Bronze_winter</th>\n",
       "      <th>Total_winter</th>\n",
       "      <th>Games_total</th>\n",
       "      <th>Gold_total</th>\n",
       "      <th>Silver_total</th>\n",
       "      <th>Bronze_total</th>\n",
       "      <th>Totalmedals</th>\n",
       "    </tr>\n",
       "  </thead>\n",
       "  <tbody>\n",
       "    <tr>\n",
       "      <th>0</th>\n",
       "      <td>Afghanistan (AFG)</td>\n",
       "      <td>Afghanistan</td>\n",
       "      <td>AFG</td>\n",
       "      <td>16</td>\n",
       "      <td>0</td>\n",
       "      <td>0</td>\n",
       "      <td>2</td>\n",
       "      <td>2</td>\n",
       "      <td>0</td>\n",
       "      <td>0</td>\n",
       "      <td>0</td>\n",
       "      <td>0</td>\n",
       "      <td>0</td>\n",
       "      <td>16</td>\n",
       "      <td>0</td>\n",
       "      <td>0</td>\n",
       "      <td>2</td>\n",
       "      <td>2</td>\n",
       "    </tr>\n",
       "  </tbody>\n",
       "</table>\n",
       "</div>"
      ],
      "text/plain": [
       "     Team (IOC code)          Team IOCcode  Games_summer  Gold_summer  \\\n",
       "0  Afghanistan (AFG)  Afghanistan      AFG            16            0   \n",
       "\n",
       "   Silver_summer  Bronze_summer  Total_summer  Games_winter  Gold_winter  \\\n",
       "0              0              2             2             0            0   \n",
       "\n",
       "   Silver_winter  Bronze_winter  Total_winter  Games_total  Gold_total  \\\n",
       "0              0              0             0           16           0   \n",
       "\n",
       "   Silver_total  Bronze_total  Totalmedals  \n",
       "0             0             2            2  "
      ]
     },
     "execution_count": 171,
     "metadata": {},
     "output_type": "execute_result"
    }
   ],
   "source": [
    "#information about dataframe\n",
    "df1.info()\n",
    "df1.shape\n",
    "df1.head(1)"
   ]
  }
 ],
 "metadata": {
  "kernelspec": {
   "display_name": "Python 3",
   "language": "python",
   "name": "python3"
  },
  "language_info": {
   "codemirror_mode": {
    "name": "ipython",
    "version": 3
   },
   "file_extension": ".py",
   "mimetype": "text/x-python",
   "name": "python",
   "nbconvert_exporter": "python",
   "pygments_lexer": "ipython3",
   "version": "3.12.5"
  }
 },
 "nbformat": 4,
 "nbformat_minor": 2
}
